{
  "cells": [
    {
      "cell_type": "markdown",
      "source": [
        "필수 라이브러리 설치"
      ],
      "metadata": {
        "id": "wS_kTW907A4c"
      }
    },
    {
      "cell_type": "code",
      "execution_count": null,
      "metadata": {
        "colab": {
          "base_uri": "https://localhost:8080/"
        },
        "id": "b4htYmSFYTMT",
        "outputId": "3e7434b4-1a04-44ad-c950-08af2ce7b6be"
      },
      "outputs": [
        {
          "name": "stdout",
          "output_type": "stream",
          "text": [
            "Requirement already satisfied: requests in /usr/local/lib/python3.10/dist-packages (2.32.3)\n",
            "Requirement already satisfied: pandas in /usr/local/lib/python3.10/dist-packages (2.2.2)\n",
            "Requirement already satisfied: matplotlib in /usr/local/lib/python3.10/dist-packages (3.8.0)\n",
            "Requirement already satisfied: schedule in /usr/local/lib/python3.10/dist-packages (1.2.2)\n",
            "Requirement already satisfied: charset-normalizer<4,>=2 in /usr/local/lib/python3.10/dist-packages (from requests) (3.4.0)\n",
            "Requirement already satisfied: idna<4,>=2.5 in /usr/local/lib/python3.10/dist-packages (from requests) (3.10)\n",
            "Requirement already satisfied: urllib3<3,>=1.21.1 in /usr/local/lib/python3.10/dist-packages (from requests) (2.2.3)\n",
            "Requirement already satisfied: certifi>=2017.4.17 in /usr/local/lib/python3.10/dist-packages (from requests) (2024.8.30)\n",
            "Requirement already satisfied: numpy>=1.22.4 in /usr/local/lib/python3.10/dist-packages (from pandas) (1.26.4)\n",
            "Requirement already satisfied: python-dateutil>=2.8.2 in /usr/local/lib/python3.10/dist-packages (from pandas) (2.8.2)\n",
            "Requirement already satisfied: pytz>=2020.1 in /usr/local/lib/python3.10/dist-packages (from pandas) (2024.2)\n",
            "Requirement already satisfied: tzdata>=2022.7 in /usr/local/lib/python3.10/dist-packages (from pandas) (2024.2)\n",
            "Requirement already satisfied: contourpy>=1.0.1 in /usr/local/lib/python3.10/dist-packages (from matplotlib) (1.3.0)\n",
            "Requirement already satisfied: cycler>=0.10 in /usr/local/lib/python3.10/dist-packages (from matplotlib) (0.12.1)\n",
            "Requirement already satisfied: fonttools>=4.22.0 in /usr/local/lib/python3.10/dist-packages (from matplotlib) (4.54.1)\n",
            "Requirement already satisfied: kiwisolver>=1.0.1 in /usr/local/lib/python3.10/dist-packages (from matplotlib) (1.4.7)\n",
            "Requirement already satisfied: packaging>=20.0 in /usr/local/lib/python3.10/dist-packages (from matplotlib) (24.1)\n",
            "Requirement already satisfied: pillow>=6.2.0 in /usr/local/lib/python3.10/dist-packages (from matplotlib) (10.4.0)\n",
            "Requirement already satisfied: pyparsing>=2.3.1 in /usr/local/lib/python3.10/dist-packages (from matplotlib) (3.2.0)\n",
            "Requirement already satisfied: six>=1.5 in /usr/local/lib/python3.10/dist-packages (from python-dateutil>=2.8.2->pandas) (1.16.0)\n"
          ]
        }
      ],
      "source": [
        "pip install requests pandas matplotlib schedule\n"
      ]
    },
    {
      "cell_type": "markdown",
      "source": [
        "기본 아이템 DB 제작 코드"
      ],
      "metadata": {
        "id": "ZAie1MmW626z"
      }
    },
    {
      "cell_type": "code",
      "execution_count": null,
      "metadata": {
        "colab": {
          "base_uri": "https://localhost:8080/"
        },
        "id": "W1X_Nyen7Er1",
        "outputId": "9130f309-9bb1-419f-db8b-36f52fb6ee11"
      },
      "outputs": [
        {
          "name": "stdout",
          "output_type": "stream",
          "text": [
            "아이템 이름이 item_names 테이블에 저장되었습니다.\n",
            "저장된 아이템 이름 목록:\n",
            "(1, '아드레날린 각인서')\n",
            "(2, '원한 각인서')\n",
            "(3, '예리한 둔기 각인서')\n",
            "(4, '돌격대장 각인서')\n",
            "(5, '저주받은 인형 각인서')\n",
            "(6, '기습의 대가 각인서')\n",
            "(7, '타격의 대가 각인서')\n",
            "(8, '질량 증가 각인서')\n",
            "(9, '마나의 흐름 각인서')\n",
            "(10, '슈퍼 차지 각인서')\n"
          ]
        }
      ],
      "source": [
        "import sqlite3\n",
        "\n",
        "# 데이터베이스 연결 (파일이 없으면 새로 생성됩니다)\n",
        "conn = sqlite3.connect('item_price_data.db')\n",
        "cursor = conn.cursor()\n",
        "\n",
        "# item_names 테이블 생성 (이미 존재할 경우 오류 방지를 위해 IF NOT EXISTS 사용)\n",
        "cursor.execute('''\n",
        "    CREATE TABLE IF NOT EXISTS item_names (\n",
        "        id INTEGER PRIMARY KEY AUTOINCREMENT,\n",
        "        Name TEXT UNIQUE NOT NULL\n",
        "    )\n",
        "''')\n",
        "\n",
        "# 추가할 아이템 이름 리스트\n",
        "item_names = [\n",
        "    '아드레날린 각인서', '원한 각인서', '예리한 둔기 각인서',\n",
        "    '돌격대장 각인서', '저주받은 인형 각인서', '기습의 대가 각인서',\n",
        "    '타격의 대가 각인서', '질량 증가 각인서', '마나의 흐름 각인서',\n",
        "    '슈퍼 차지 각인서'\n",
        "]\n",
        "\n",
        "# 아이템 이름을 테이블에 추가\n",
        "for name in item_names:\n",
        "    try:\n",
        "        cursor.execute(\"INSERT OR IGNORE INTO item_names (Name) VALUES (?)\", (name,))\n",
        "    except sqlite3.Error as e:\n",
        "        print(f\"Error occurred: {e}\")\n",
        "\n",
        "# 데이터베이스에 변경사항 저장\n",
        "conn.commit()\n",
        "print(\"아이템 이름이 item_names 테이블에 저장되었습니다.\")\n",
        "\n",
        "# 테이블에 저장된 모든 아이템 이름 확인\n",
        "cursor.execute(\"SELECT * FROM item_names\")\n",
        "all_items = cursor.fetchall()\n",
        "print(\"저장된 아이템 이름 목록:\")\n",
        "for item in all_items:\n",
        "    print(item)\n",
        "\n",
        "# 연결 종료\n",
        "conn.close()\n"
      ]
    },
    {
      "cell_type": "markdown",
      "source": [
        "한글 폰트 적용 후 런타임 재시작"
      ],
      "metadata": {
        "id": "p8CvqNmJ7Ex5"
      }
    },
    {
      "cell_type": "code",
      "execution_count": null,
      "metadata": {
        "colab": {
          "background_save": true,
          "base_uri": "https://localhost:8080/"
        },
        "id": "MgynSlLMgNV1",
        "outputId": "a8ea8a9e-3dfb-4c0e-d5f8-425cd72e883f"
      },
      "outputs": [
        {
          "name": "stdout",
          "output_type": "stream",
          "text": [
            "Reading package lists... Done\n",
            "Building dependency tree... Done\n",
            "Reading state information... Done\n",
            "The following NEW packages will be installed:\n",
            "  fonts-nanum\n",
            "0 upgraded, 1 newly installed, 0 to remove and 49 not upgraded.\n",
            "Need to get 10.3 MB of archives.\n",
            "After this operation, 34.1 MB of additional disk space will be used.\n",
            "Get:1 http://archive.ubuntu.com/ubuntu jammy/universe amd64 fonts-nanum all 20200506-1 [10.3 MB]\n",
            "Fetched 10.3 MB in 1s (9,091 kB/s)\n",
            "debconf: unable to initialize frontend: Dialog\n",
            "debconf: (No usable dialog-like program is installed, so the dialog based frontend cannot be used. at /usr/share/perl5/Debconf/FrontEnd/Dialog.pm line 78, <> line 1.)\n",
            "debconf: falling back to frontend: Readline\n",
            "debconf: unable to initialize frontend: Readline\n",
            "debconf: (This frontend requires a controlling tty.)\n",
            "debconf: falling back to frontend: Teletype\n",
            "dpkg-preconfigure: unable to re-open stdin: \n",
            "Selecting previously unselected package fonts-nanum.\n",
            "(Reading database ... 123629 files and directories currently installed.)\n",
            "Preparing to unpack .../fonts-nanum_20200506-1_all.deb ...\n",
            "Unpacking fonts-nanum (20200506-1) ...\n",
            "Setting up fonts-nanum (20200506-1) ...\n",
            "Processing triggers for fontconfig (2.13.1-4.2ubuntu5) ...\n",
            "/usr/share/fonts: caching, new cache contents: 0 fonts, 1 dirs\n",
            "/usr/share/fonts/truetype: caching, new cache contents: 0 fonts, 3 dirs\n",
            "/usr/share/fonts/truetype/humor-sans: caching, new cache contents: 1 fonts, 0 dirs\n",
            "/usr/share/fonts/truetype/liberation: caching, new cache contents: 16 fonts, 0 dirs\n",
            "/usr/share/fonts/truetype/nanum: caching, new cache contents: 12 fonts, 0 dirs\n",
            "/usr/local/share/fonts: caching, new cache contents: 0 fonts, 0 dirs\n",
            "/root/.local/share/fonts: skipping, no such directory\n",
            "/root/.fonts: skipping, no such directory\n",
            "/usr/share/fonts/truetype: skipping, looped directory detected\n",
            "/usr/share/fonts/truetype/humor-sans: skipping, looped directory detected\n",
            "/usr/share/fonts/truetype/liberation: skipping, looped directory detected\n",
            "/usr/share/fonts/truetype/nanum: skipping, looped directory detected\n",
            "/var/cache/fontconfig: cleaning cache directory\n",
            "/root/.cache/fontconfig: not cleaning non-existent cache directory\n",
            "/root/.fontconfig: not cleaning non-existent cache directory\n",
            "fc-cache: succeeded\n"
          ]
        }
      ],
      "source": [
        "!sudo apt-get install -y fonts-nanum\n",
        "!sudo fc-cache -fv\n",
        "!rm ~/.cache/matplotlib -rf"
      ]
    },
    {
      "cell_type": "markdown",
      "source": [
        "메인 코드"
      ],
      "metadata": {
        "id": "7KCxKT4H7G3q"
      }
    },
    {
      "cell_type": "code",
      "execution_count": null,
      "metadata": {
        "colab": {
          "background_save": true,
          "base_uri": "https://localhost:8080/",
          "height": 1000
        },
        "id": "RJze1mjvXjLs",
        "outputId": "a18d7204-bc07-4a6b-b6b2-24c646359dc3"
      },
      "outputs": [
        {
          "name": "stdout",
          "output_type": "stream",
          "text": [
            "\n",
            "[START] 데이터 업데이트 작업 시작\n",
            "[INFO] item_prices 테이블 확인 및 생성 완료.\n",
            "[INFO] DB에서 조회된 아이템 이름: ['아드레날린 각인서', '원한 각인서', '예리한 둔기 각인서', '돌격대장 각인서', '저주받은 인형 각인서', '기습의 대가 각인서', '타격의 대가 각인서', '질량 증가 각인서', '마나의 흐름 각인서', '슈퍼 차지 각인서']\n",
            "[INFO] '아드레날린 각인서' 시세 데이터 조회 중...\n",
            "[SUCCESS] '아드레날린 각인서' 데이터 저장 완료!\n",
            "[INFO] '원한 각인서' 시세 데이터 조회 중...\n",
            "[SUCCESS] '원한 각인서' 데이터 저장 완료!\n",
            "[INFO] '예리한 둔기 각인서' 시세 데이터 조회 중...\n",
            "[SUCCESS] '예리한 둔기 각인서' 데이터 저장 완료!\n",
            "[INFO] '돌격대장 각인서' 시세 데이터 조회 중...\n",
            "[SUCCESS] '돌격대장 각인서' 데이터 저장 완료!\n",
            "[INFO] '저주받은 인형 각인서' 시세 데이터 조회 중...\n",
            "[SUCCESS] '저주받은 인형 각인서' 데이터 저장 완료!\n",
            "[INFO] '기습의 대가 각인서' 시세 데이터 조회 중...\n",
            "[SUCCESS] '기습의 대가 각인서' 데이터 저장 완료!\n",
            "[INFO] '타격의 대가 각인서' 시세 데이터 조회 중...\n",
            "[SUCCESS] '타격의 대가 각인서' 데이터 저장 완료!\n",
            "[INFO] '질량 증가 각인서' 시세 데이터 조회 중...\n",
            "[SUCCESS] '질량 증가 각인서' 데이터 저장 완료!\n",
            "[INFO] '마나의 흐름 각인서' 시세 데이터 조회 중...\n",
            "[SUCCESS] '마나의 흐름 각인서' 데이터 저장 완료!\n",
            "[INFO] '슈퍼 차지 각인서' 시세 데이터 조회 중...\n",
            "[SUCCESS] '슈퍼 차지 각인서' 데이터 저장 완료!\n",
            "[INFO] 모든 데이터가 데이터베이스에 저장되었습니다.\n",
            "[INFO] 데이터를 CSV 파일로 저장했습니다: item_price_data.csv\n",
            "[START] 그래프 생성 및 표시 작업 시작\n",
            "[INFO] 데이터베이스에서 그래프 데이터를 가져왔습니다.\n",
            "[INFO] 그래프 생성 완료. Plotly 창을 통해 표시합니다.\n"
          ]
        },
        {
          "data": {
            "text/html": [
              "<html>\n",
              "<head><meta charset=\"utf-8\" /></head>\n",
              "<body>\n",
              "    <div>            <script src=\"https://cdnjs.cloudflare.com/ajax/libs/mathjax/2.7.5/MathJax.js?config=TeX-AMS-MML_SVG\"></script><script type=\"text/javascript\">if (window.MathJax && window.MathJax.Hub && window.MathJax.Hub.Config) {window.MathJax.Hub.Config({SVG: {font: \"STIX-Web\"}});}</script>                <script type=\"text/javascript\">window.PlotlyConfig = {MathJaxConfig: 'local'};</script>\n",
              "        <script charset=\"utf-8\" src=\"https://cdn.plot.ly/plotly-2.35.2.min.js\"></script>                <div id=\"880521e0-607c-487f-a65f-d15c584bfbf1\" class=\"plotly-graph-div\" style=\"height:525px; width:100%;\"></div>            <script type=\"text/javascript\">                                    window.PLOTLYENV=window.PLOTLYENV || {};                                    if (document.getElementById(\"880521e0-607c-487f-a65f-d15c584bfbf1\")) {                    Plotly.newPlot(                        \"880521e0-607c-487f-a65f-d15c584bfbf1\",                        [{\"customdata\":[[\"아드레날린 각인서\",\"유물\"]],\"hovertemplate\":\"Name=%{customdata[0]}\\u003cbr\\u003eDate=%{x}\\u003cbr\\u003eRecentPrice=%{y}\\u003cbr\\u003eGrade=%{customdata[1]}\\u003cextra\\u003e\\u003c\\u002fextra\\u003e\",\"legendgroup\":\"아드레날린 각인서\",\"line\":{\"color\":\"#636efa\",\"dash\":\"solid\"},\"marker\":{\"symbol\":\"circle\",\"size\":8},\"mode\":\"markers+lines\",\"name\":\"아드레날린 각인서\",\"orientation\":\"v\",\"showlegend\":true,\"x\":[\"2024-11-18T15:54:29.089423\"],\"xaxis\":\"x\",\"y\":[284999.0],\"yaxis\":\"y\",\"type\":\"scatter\"},{\"customdata\":[[\"원한 각인서\",\"유물\"]],\"hovertemplate\":\"Name=%{customdata[0]}\\u003cbr\\u003eDate=%{x}\\u003cbr\\u003eRecentPrice=%{y}\\u003cbr\\u003eGrade=%{customdata[1]}\\u003cextra\\u003e\\u003c\\u002fextra\\u003e\",\"legendgroup\":\"원한 각인서\",\"line\":{\"color\":\"#EF553B\",\"dash\":\"solid\"},\"marker\":{\"symbol\":\"circle\",\"size\":8},\"mode\":\"markers+lines\",\"name\":\"원한 각인서\",\"orientation\":\"v\",\"showlegend\":true,\"x\":[\"2024-11-18T15:54:29.875035\"],\"xaxis\":\"x\",\"y\":[225555.0],\"yaxis\":\"y\",\"type\":\"scatter\"},{\"customdata\":[[\"예리한 둔기 각인서\",\"유물\"]],\"hovertemplate\":\"Name=%{customdata[0]}\\u003cbr\\u003eDate=%{x}\\u003cbr\\u003eRecentPrice=%{y}\\u003cbr\\u003eGrade=%{customdata[1]}\\u003cextra\\u003e\\u003c\\u002fextra\\u003e\",\"legendgroup\":\"예리한 둔기 각인서\",\"line\":{\"color\":\"#00cc96\",\"dash\":\"solid\"},\"marker\":{\"symbol\":\"circle\",\"size\":8},\"mode\":\"markers+lines\",\"name\":\"예리한 둔기 각인서\",\"orientation\":\"v\",\"showlegend\":true,\"x\":[\"2024-11-18T15:54:30.546125\"],\"xaxis\":\"x\",\"y\":[163800.0],\"yaxis\":\"y\",\"type\":\"scatter\"},{\"customdata\":[[\"돌격대장 각인서\",\"유물\"]],\"hovertemplate\":\"Name=%{customdata[0]}\\u003cbr\\u003eDate=%{x}\\u003cbr\\u003eRecentPrice=%{y}\\u003cbr\\u003eGrade=%{customdata[1]}\\u003cextra\\u003e\\u003c\\u002fextra\\u003e\",\"legendgroup\":\"돌격대장 각인서\",\"line\":{\"color\":\"#ab63fa\",\"dash\":\"solid\"},\"marker\":{\"symbol\":\"circle\",\"size\":8},\"mode\":\"markers+lines\",\"name\":\"돌격대장 각인서\",\"orientation\":\"v\",\"showlegend\":true,\"x\":[\"2024-11-18T15:54:31.195483\"],\"xaxis\":\"x\",\"y\":[152000.0],\"yaxis\":\"y\",\"type\":\"scatter\"},{\"customdata\":[[\"저주받은 인형 각인서\",\"유물\"]],\"hovertemplate\":\"Name=%{customdata[0]}\\u003cbr\\u003eDate=%{x}\\u003cbr\\u003eRecentPrice=%{y}\\u003cbr\\u003eGrade=%{customdata[1]}\\u003cextra\\u003e\\u003c\\u002fextra\\u003e\",\"legendgroup\":\"저주받은 인형 각인서\",\"line\":{\"color\":\"#FFA15A\",\"dash\":\"solid\"},\"marker\":{\"symbol\":\"circle\",\"size\":8},\"mode\":\"markers+lines\",\"name\":\"저주받은 인형 각인서\",\"orientation\":\"v\",\"showlegend\":true,\"x\":[\"2024-11-18T15:54:31.865468\"],\"xaxis\":\"x\",\"y\":[147599.0],\"yaxis\":\"y\",\"type\":\"scatter\"},{\"customdata\":[[\"기습의 대가 각인서\",\"유물\"]],\"hovertemplate\":\"Name=%{customdata[0]}\\u003cbr\\u003eDate=%{x}\\u003cbr\\u003eRecentPrice=%{y}\\u003cbr\\u003eGrade=%{customdata[1]}\\u003cextra\\u003e\\u003c\\u002fextra\\u003e\",\"legendgroup\":\"기습의 대가 각인서\",\"line\":{\"color\":\"#19d3f3\",\"dash\":\"solid\"},\"marker\":{\"symbol\":\"circle\",\"size\":8},\"mode\":\"markers+lines\",\"name\":\"기습의 대가 각인서\",\"orientation\":\"v\",\"showlegend\":true,\"x\":[\"2024-11-18T15:54:32.503390\"],\"xaxis\":\"x\",\"y\":[99300.0],\"yaxis\":\"y\",\"type\":\"scatter\"},{\"customdata\":[[\"타격의 대가 각인서\",\"유물\"]],\"hovertemplate\":\"Name=%{customdata[0]}\\u003cbr\\u003eDate=%{x}\\u003cbr\\u003eRecentPrice=%{y}\\u003cbr\\u003eGrade=%{customdata[1]}\\u003cextra\\u003e\\u003c\\u002fextra\\u003e\",\"legendgroup\":\"타격의 대가 각인서\",\"line\":{\"color\":\"#FF6692\",\"dash\":\"solid\"},\"marker\":{\"symbol\":\"circle\",\"size\":8},\"mode\":\"markers+lines\",\"name\":\"타격의 대가 각인서\",\"orientation\":\"v\",\"showlegend\":true,\"x\":[\"2024-11-18T15:54:33.175288\"],\"xaxis\":\"x\",\"y\":[87300.0],\"yaxis\":\"y\",\"type\":\"scatter\"},{\"customdata\":[[\"질량 증가 각인서\",\"유물\"]],\"hovertemplate\":\"Name=%{customdata[0]}\\u003cbr\\u003eDate=%{x}\\u003cbr\\u003eRecentPrice=%{y}\\u003cbr\\u003eGrade=%{customdata[1]}\\u003cextra\\u003e\\u003c\\u002fextra\\u003e\",\"legendgroup\":\"질량 증가 각인서\",\"line\":{\"color\":\"#B6E880\",\"dash\":\"solid\"},\"marker\":{\"symbol\":\"circle\",\"size\":8},\"mode\":\"markers+lines\",\"name\":\"질량 증가 각인서\",\"orientation\":\"v\",\"showlegend\":true,\"x\":[\"2024-11-18T15:54:33.842705\"],\"xaxis\":\"x\",\"y\":[84500.0],\"yaxis\":\"y\",\"type\":\"scatter\"},{\"customdata\":[[\"마나의 흐름 각인서\",\"유물\"]],\"hovertemplate\":\"Name=%{customdata[0]}\\u003cbr\\u003eDate=%{x}\\u003cbr\\u003eRecentPrice=%{y}\\u003cbr\\u003eGrade=%{customdata[1]}\\u003cextra\\u003e\\u003c\\u002fextra\\u003e\",\"legendgroup\":\"마나의 흐름 각인서\",\"line\":{\"color\":\"#FF97FF\",\"dash\":\"solid\"},\"marker\":{\"symbol\":\"circle\",\"size\":8},\"mode\":\"markers+lines\",\"name\":\"마나의 흐름 각인서\",\"orientation\":\"v\",\"showlegend\":true,\"x\":[\"2024-11-18T15:54:34.500839\"],\"xaxis\":\"x\",\"y\":[61500.0],\"yaxis\":\"y\",\"type\":\"scatter\"},{\"customdata\":[[\"슈퍼 차지 각인서\",\"유물\"]],\"hovertemplate\":\"Name=%{customdata[0]}\\u003cbr\\u003eDate=%{x}\\u003cbr\\u003eRecentPrice=%{y}\\u003cbr\\u003eGrade=%{customdata[1]}\\u003cextra\\u003e\\u003c\\u002fextra\\u003e\",\"legendgroup\":\"슈퍼 차지 각인서\",\"line\":{\"color\":\"#FECB52\",\"dash\":\"solid\"},\"marker\":{\"symbol\":\"circle\",\"size\":8},\"mode\":\"markers+lines\",\"name\":\"슈퍼 차지 각인서\",\"orientation\":\"v\",\"showlegend\":true,\"x\":[\"2024-11-18T15:54:35.125917\"],\"xaxis\":\"x\",\"y\":[48999.0],\"yaxis\":\"y\",\"type\":\"scatter\"}],                        {\"template\":{\"data\":{\"histogram2dcontour\":[{\"type\":\"histogram2dcontour\",\"colorbar\":{\"outlinewidth\":0,\"ticks\":\"\"},\"colorscale\":[[0.0,\"#0d0887\"],[0.1111111111111111,\"#46039f\"],[0.2222222222222222,\"#7201a8\"],[0.3333333333333333,\"#9c179e\"],[0.4444444444444444,\"#bd3786\"],[0.5555555555555556,\"#d8576b\"],[0.6666666666666666,\"#ed7953\"],[0.7777777777777778,\"#fb9f3a\"],[0.8888888888888888,\"#fdca26\"],[1.0,\"#f0f921\"]]}],\"choropleth\":[{\"type\":\"choropleth\",\"colorbar\":{\"outlinewidth\":0,\"ticks\":\"\"}}],\"histogram2d\":[{\"type\":\"histogram2d\",\"colorbar\":{\"outlinewidth\":0,\"ticks\":\"\"},\"colorscale\":[[0.0,\"#0d0887\"],[0.1111111111111111,\"#46039f\"],[0.2222222222222222,\"#7201a8\"],[0.3333333333333333,\"#9c179e\"],[0.4444444444444444,\"#bd3786\"],[0.5555555555555556,\"#d8576b\"],[0.6666666666666666,\"#ed7953\"],[0.7777777777777778,\"#fb9f3a\"],[0.8888888888888888,\"#fdca26\"],[1.0,\"#f0f921\"]]}],\"heatmap\":[{\"type\":\"heatmap\",\"colorbar\":{\"outlinewidth\":0,\"ticks\":\"\"},\"colorscale\":[[0.0,\"#0d0887\"],[0.1111111111111111,\"#46039f\"],[0.2222222222222222,\"#7201a8\"],[0.3333333333333333,\"#9c179e\"],[0.4444444444444444,\"#bd3786\"],[0.5555555555555556,\"#d8576b\"],[0.6666666666666666,\"#ed7953\"],[0.7777777777777778,\"#fb9f3a\"],[0.8888888888888888,\"#fdca26\"],[1.0,\"#f0f921\"]]}],\"heatmapgl\":[{\"type\":\"heatmapgl\",\"colorbar\":{\"outlinewidth\":0,\"ticks\":\"\"},\"colorscale\":[[0.0,\"#0d0887\"],[0.1111111111111111,\"#46039f\"],[0.2222222222222222,\"#7201a8\"],[0.3333333333333333,\"#9c179e\"],[0.4444444444444444,\"#bd3786\"],[0.5555555555555556,\"#d8576b\"],[0.6666666666666666,\"#ed7953\"],[0.7777777777777778,\"#fb9f3a\"],[0.8888888888888888,\"#fdca26\"],[1.0,\"#f0f921\"]]}],\"contourcarpet\":[{\"type\":\"contourcarpet\",\"colorbar\":{\"outlinewidth\":0,\"ticks\":\"\"}}],\"contour\":[{\"type\":\"contour\",\"colorbar\":{\"outlinewidth\":0,\"ticks\":\"\"},\"colorscale\":[[0.0,\"#0d0887\"],[0.1111111111111111,\"#46039f\"],[0.2222222222222222,\"#7201a8\"],[0.3333333333333333,\"#9c179e\"],[0.4444444444444444,\"#bd3786\"],[0.5555555555555556,\"#d8576b\"],[0.6666666666666666,\"#ed7953\"],[0.7777777777777778,\"#fb9f3a\"],[0.8888888888888888,\"#fdca26\"],[1.0,\"#f0f921\"]]}],\"surface\":[{\"type\":\"surface\",\"colorbar\":{\"outlinewidth\":0,\"ticks\":\"\"},\"colorscale\":[[0.0,\"#0d0887\"],[0.1111111111111111,\"#46039f\"],[0.2222222222222222,\"#7201a8\"],[0.3333333333333333,\"#9c179e\"],[0.4444444444444444,\"#bd3786\"],[0.5555555555555556,\"#d8576b\"],[0.6666666666666666,\"#ed7953\"],[0.7777777777777778,\"#fb9f3a\"],[0.8888888888888888,\"#fdca26\"],[1.0,\"#f0f921\"]]}],\"mesh3d\":[{\"type\":\"mesh3d\",\"colorbar\":{\"outlinewidth\":0,\"ticks\":\"\"}}],\"scatter\":[{\"fillpattern\":{\"fillmode\":\"overlay\",\"size\":10,\"solidity\":0.2},\"type\":\"scatter\"}],\"parcoords\":[{\"type\":\"parcoords\",\"line\":{\"colorbar\":{\"outlinewidth\":0,\"ticks\":\"\"}}}],\"scatterpolargl\":[{\"type\":\"scatterpolargl\",\"marker\":{\"colorbar\":{\"outlinewidth\":0,\"ticks\":\"\"}}}],\"bar\":[{\"error_x\":{\"color\":\"#2a3f5f\"},\"error_y\":{\"color\":\"#2a3f5f\"},\"marker\":{\"line\":{\"color\":\"#E5ECF6\",\"width\":0.5},\"pattern\":{\"fillmode\":\"overlay\",\"size\":10,\"solidity\":0.2}},\"type\":\"bar\"}],\"scattergeo\":[{\"type\":\"scattergeo\",\"marker\":{\"colorbar\":{\"outlinewidth\":0,\"ticks\":\"\"}}}],\"scatterpolar\":[{\"type\":\"scatterpolar\",\"marker\":{\"colorbar\":{\"outlinewidth\":0,\"ticks\":\"\"}}}],\"histogram\":[{\"marker\":{\"pattern\":{\"fillmode\":\"overlay\",\"size\":10,\"solidity\":0.2}},\"type\":\"histogram\"}],\"scattergl\":[{\"type\":\"scattergl\",\"marker\":{\"colorbar\":{\"outlinewidth\":0,\"ticks\":\"\"}}}],\"scatter3d\":[{\"type\":\"scatter3d\",\"line\":{\"colorbar\":{\"outlinewidth\":0,\"ticks\":\"\"}},\"marker\":{\"colorbar\":{\"outlinewidth\":0,\"ticks\":\"\"}}}],\"scattermapbox\":[{\"type\":\"scattermapbox\",\"marker\":{\"colorbar\":{\"outlinewidth\":0,\"ticks\":\"\"}}}],\"scatterternary\":[{\"type\":\"scatterternary\",\"marker\":{\"colorbar\":{\"outlinewidth\":0,\"ticks\":\"\"}}}],\"scattercarpet\":[{\"type\":\"scattercarpet\",\"marker\":{\"colorbar\":{\"outlinewidth\":0,\"ticks\":\"\"}}}],\"carpet\":[{\"aaxis\":{\"endlinecolor\":\"#2a3f5f\",\"gridcolor\":\"white\",\"linecolor\":\"white\",\"minorgridcolor\":\"white\",\"startlinecolor\":\"#2a3f5f\"},\"baxis\":{\"endlinecolor\":\"#2a3f5f\",\"gridcolor\":\"white\",\"linecolor\":\"white\",\"minorgridcolor\":\"white\",\"startlinecolor\":\"#2a3f5f\"},\"type\":\"carpet\"}],\"table\":[{\"cells\":{\"fill\":{\"color\":\"#EBF0F8\"},\"line\":{\"color\":\"white\"}},\"header\":{\"fill\":{\"color\":\"#C8D4E3\"},\"line\":{\"color\":\"white\"}},\"type\":\"table\"}],\"barpolar\":[{\"marker\":{\"line\":{\"color\":\"#E5ECF6\",\"width\":0.5},\"pattern\":{\"fillmode\":\"overlay\",\"size\":10,\"solidity\":0.2}},\"type\":\"barpolar\"}],\"pie\":[{\"automargin\":true,\"type\":\"pie\"}]},\"layout\":{\"autotypenumbers\":\"strict\",\"colorway\":[\"#636efa\",\"#EF553B\",\"#00cc96\",\"#ab63fa\",\"#FFA15A\",\"#19d3f3\",\"#FF6692\",\"#B6E880\",\"#FF97FF\",\"#FECB52\"],\"font\":{\"color\":\"#2a3f5f\"},\"hovermode\":\"closest\",\"hoverlabel\":{\"align\":\"left\"},\"paper_bgcolor\":\"white\",\"plot_bgcolor\":\"#E5ECF6\",\"polar\":{\"bgcolor\":\"#E5ECF6\",\"angularaxis\":{\"gridcolor\":\"white\",\"linecolor\":\"white\",\"ticks\":\"\"},\"radialaxis\":{\"gridcolor\":\"white\",\"linecolor\":\"white\",\"ticks\":\"\"}},\"ternary\":{\"bgcolor\":\"#E5ECF6\",\"aaxis\":{\"gridcolor\":\"white\",\"linecolor\":\"white\",\"ticks\":\"\"},\"baxis\":{\"gridcolor\":\"white\",\"linecolor\":\"white\",\"ticks\":\"\"},\"caxis\":{\"gridcolor\":\"white\",\"linecolor\":\"white\",\"ticks\":\"\"}},\"coloraxis\":{\"colorbar\":{\"outlinewidth\":0,\"ticks\":\"\"}},\"colorscale\":{\"sequential\":[[0.0,\"#0d0887\"],[0.1111111111111111,\"#46039f\"],[0.2222222222222222,\"#7201a8\"],[0.3333333333333333,\"#9c179e\"],[0.4444444444444444,\"#bd3786\"],[0.5555555555555556,\"#d8576b\"],[0.6666666666666666,\"#ed7953\"],[0.7777777777777778,\"#fb9f3a\"],[0.8888888888888888,\"#fdca26\"],[1.0,\"#f0f921\"]],\"sequentialminus\":[[0.0,\"#0d0887\"],[0.1111111111111111,\"#46039f\"],[0.2222222222222222,\"#7201a8\"],[0.3333333333333333,\"#9c179e\"],[0.4444444444444444,\"#bd3786\"],[0.5555555555555556,\"#d8576b\"],[0.6666666666666666,\"#ed7953\"],[0.7777777777777778,\"#fb9f3a\"],[0.8888888888888888,\"#fdca26\"],[1.0,\"#f0f921\"]],\"diverging\":[[0,\"#8e0152\"],[0.1,\"#c51b7d\"],[0.2,\"#de77ae\"],[0.3,\"#f1b6da\"],[0.4,\"#fde0ef\"],[0.5,\"#f7f7f7\"],[0.6,\"#e6f5d0\"],[0.7,\"#b8e186\"],[0.8,\"#7fbc41\"],[0.9,\"#4d9221\"],[1,\"#276419\"]]},\"xaxis\":{\"gridcolor\":\"white\",\"linecolor\":\"white\",\"ticks\":\"\",\"title\":{\"standoff\":15},\"zerolinecolor\":\"white\",\"automargin\":true,\"zerolinewidth\":2},\"yaxis\":{\"gridcolor\":\"white\",\"linecolor\":\"white\",\"ticks\":\"\",\"title\":{\"standoff\":15},\"zerolinecolor\":\"white\",\"automargin\":true,\"zerolinewidth\":2},\"scene\":{\"xaxis\":{\"backgroundcolor\":\"#E5ECF6\",\"gridcolor\":\"white\",\"linecolor\":\"white\",\"showbackground\":true,\"ticks\":\"\",\"zerolinecolor\":\"white\",\"gridwidth\":2},\"yaxis\":{\"backgroundcolor\":\"#E5ECF6\",\"gridcolor\":\"white\",\"linecolor\":\"white\",\"showbackground\":true,\"ticks\":\"\",\"zerolinecolor\":\"white\",\"gridwidth\":2},\"zaxis\":{\"backgroundcolor\":\"#E5ECF6\",\"gridcolor\":\"white\",\"linecolor\":\"white\",\"showbackground\":true,\"ticks\":\"\",\"zerolinecolor\":\"white\",\"gridwidth\":2}},\"shapedefaults\":{\"line\":{\"color\":\"#2a3f5f\"}},\"annotationdefaults\":{\"arrowcolor\":\"#2a3f5f\",\"arrowhead\":0,\"arrowwidth\":1},\"geo\":{\"bgcolor\":\"white\",\"landcolor\":\"#E5ECF6\",\"subunitcolor\":\"white\",\"showland\":true,\"showlakes\":true,\"lakecolor\":\"white\"},\"title\":{\"x\":0.05},\"mapbox\":{\"style\":\"light\"}}},\"xaxis\":{\"anchor\":\"y\",\"domain\":[0.0,1.0],\"title\":{},\"showticklabels\":false,\"showgrid\":false},\"yaxis\":{\"anchor\":\"x\",\"domain\":[0.0,1.0],\"title\":{\"text\":\"최근 가격\"}},\"legend\":{\"title\":{\"text\":\"아이템 이름\"},\"tracegroupgap\":0},\"title\":{\"text\":\"각인서 가격 변동 그래프\",\"font\":{\"size\":20}},\"hovermode\":\"x unified\"},                        {\"responsive\": true}                    ).then(function(){\n",
              "                            \n",
              "var gd = document.getElementById('880521e0-607c-487f-a65f-d15c584bfbf1');\n",
              "var x = new MutationObserver(function (mutations, observer) {{\n",
              "        var display = window.getComputedStyle(gd).display;\n",
              "        if (!display || display === 'none') {{\n",
              "            console.log([gd, 'removed!']);\n",
              "            Plotly.purge(gd);\n",
              "            observer.disconnect();\n",
              "        }}\n",
              "}});\n",
              "\n",
              "// Listen for the removal of the full notebook cells\n",
              "var notebookContainer = gd.closest('#notebook-container');\n",
              "if (notebookContainer) {{\n",
              "    x.observe(notebookContainer, {childList: true});\n",
              "}}\n",
              "\n",
              "// Listen for the clearing of the current output cell\n",
              "var outputEl = gd.closest('.output');\n",
              "if (outputEl) {{\n",
              "    x.observe(outputEl, {childList: true});\n",
              "}}\n",
              "\n",
              "                        })                };                            </script>        </div>\n",
              "</body>\n",
              "</html>"
            ]
          },
          "metadata": {},
          "output_type": "display_data"
        },
        {
          "name": "stdout",
          "output_type": "stream",
          "text": [
            "[INFO] 1시간 대기 시작...\n",
            "\n",
            "[START] 데이터 업데이트 작업 시작\n",
            "[INFO] item_prices 테이블 확인 및 생성 완료.\n",
            "[INFO] DB에서 조회된 아이템 이름: ['아드레날린 각인서', '원한 각인서', '예리한 둔기 각인서', '돌격대장 각인서', '저주받은 인형 각인서', '기습의 대가 각인서', '타격의 대가 각인서', '질량 증가 각인서', '마나의 흐름 각인서', '슈퍼 차지 각인서']\n",
            "[INFO] '아드레날린 각인서' 시세 데이터 조회 중...\n",
            "[SUCCESS] '아드레날린 각인서' 데이터 저장 완료!\n",
            "[INFO] '원한 각인서' 시세 데이터 조회 중...\n",
            "[SUCCESS] '원한 각인서' 데이터 저장 완료!\n",
            "[INFO] '예리한 둔기 각인서' 시세 데이터 조회 중...\n",
            "[SUCCESS] '예리한 둔기 각인서' 데이터 저장 완료!\n",
            "[INFO] '돌격대장 각인서' 시세 데이터 조회 중...\n",
            "[SUCCESS] '돌격대장 각인서' 데이터 저장 완료!\n",
            "[INFO] '저주받은 인형 각인서' 시세 데이터 조회 중...\n",
            "[SUCCESS] '저주받은 인형 각인서' 데이터 저장 완료!\n",
            "[INFO] '기습의 대가 각인서' 시세 데이터 조회 중...\n",
            "[SUCCESS] '기습의 대가 각인서' 데이터 저장 완료!\n",
            "[INFO] '타격의 대가 각인서' 시세 데이터 조회 중...\n",
            "[SUCCESS] '타격의 대가 각인서' 데이터 저장 완료!\n",
            "[INFO] '질량 증가 각인서' 시세 데이터 조회 중...\n",
            "[SUCCESS] '질량 증가 각인서' 데이터 저장 완료!\n",
            "[INFO] '마나의 흐름 각인서' 시세 데이터 조회 중...\n",
            "[SUCCESS] '마나의 흐름 각인서' 데이터 저장 완료!\n",
            "[INFO] '슈퍼 차지 각인서' 시세 데이터 조회 중...\n",
            "[SUCCESS] '슈퍼 차지 각인서' 데이터 저장 완료!\n",
            "[INFO] 모든 데이터가 데이터베이스에 저장되었습니다.\n",
            "[INFO] 데이터를 CSV 파일로 저장했습니다: item_price_data.csv\n",
            "[START] 그래프 생성 및 표시 작업 시작\n",
            "[INFO] 데이터베이스에서 그래프 데이터를 가져왔습니다.\n",
            "[INFO] 그래프 생성 완료. Plotly 창을 통해 표시합니다.\n"
          ]
        },
        {
          "data": {
            "text/html": [
              "<html>\n",
              "<head><meta charset=\"utf-8\" /></head>\n",
              "<body>\n",
              "    <div>            <script src=\"https://cdnjs.cloudflare.com/ajax/libs/mathjax/2.7.5/MathJax.js?config=TeX-AMS-MML_SVG\"></script><script type=\"text/javascript\">if (window.MathJax && window.MathJax.Hub && window.MathJax.Hub.Config) {window.MathJax.Hub.Config({SVG: {font: \"STIX-Web\"}});}</script>                <script type=\"text/javascript\">window.PlotlyConfig = {MathJaxConfig: 'local'};</script>\n",
              "        <script charset=\"utf-8\" src=\"https://cdn.plot.ly/plotly-2.35.2.min.js\"></script>                <div id=\"a44e4a06-2990-49bd-b904-c26a257ceacc\" class=\"plotly-graph-div\" style=\"height:525px; width:100%;\"></div>            <script type=\"text/javascript\">                                    window.PLOTLYENV=window.PLOTLYENV || {};                                    if (document.getElementById(\"a44e4a06-2990-49bd-b904-c26a257ceacc\")) {                    Plotly.newPlot(                        \"a44e4a06-2990-49bd-b904-c26a257ceacc\",                        [{\"customdata\":[[\"아드레날린 각인서\",\"유물\"],[\"아드레날린 각인서\",\"유물\"]],\"hovertemplate\":\"Name=%{customdata[0]}\\u003cbr\\u003eDate=%{x}\\u003cbr\\u003eRecentPrice=%{y}\\u003cbr\\u003eGrade=%{customdata[1]}\\u003cextra\\u003e\\u003c\\u002fextra\\u003e\",\"legendgroup\":\"아드레날린 각인서\",\"line\":{\"color\":\"#636efa\",\"dash\":\"solid\"},\"marker\":{\"symbol\":\"circle\",\"size\":8},\"mode\":\"markers+lines\",\"name\":\"아드레날린 각인서\",\"orientation\":\"v\",\"showlegend\":true,\"x\":[\"2024-11-18T15:54:29.089423\",\"2024-11-18T16:54:37.944293\"],\"xaxis\":\"x\",\"y\":[284999.0,286000.0],\"yaxis\":\"y\",\"type\":\"scatter\"},{\"customdata\":[[\"원한 각인서\",\"유물\"],[\"원한 각인서\",\"유물\"]],\"hovertemplate\":\"Name=%{customdata[0]}\\u003cbr\\u003eDate=%{x}\\u003cbr\\u003eRecentPrice=%{y}\\u003cbr\\u003eGrade=%{customdata[1]}\\u003cextra\\u003e\\u003c\\u002fextra\\u003e\",\"legendgroup\":\"원한 각인서\",\"line\":{\"color\":\"#EF553B\",\"dash\":\"solid\"},\"marker\":{\"symbol\":\"circle\",\"size\":8},\"mode\":\"markers+lines\",\"name\":\"원한 각인서\",\"orientation\":\"v\",\"showlegend\":true,\"x\":[\"2024-11-18T15:54:29.875035\",\"2024-11-18T16:54:38.599358\"],\"xaxis\":\"x\",\"y\":[225555.0,224900.0],\"yaxis\":\"y\",\"type\":\"scatter\"},{\"customdata\":[[\"예리한 둔기 각인서\",\"유물\"],[\"예리한 둔기 각인서\",\"유물\"]],\"hovertemplate\":\"Name=%{customdata[0]}\\u003cbr\\u003eDate=%{x}\\u003cbr\\u003eRecentPrice=%{y}\\u003cbr\\u003eGrade=%{customdata[1]}\\u003cextra\\u003e\\u003c\\u002fextra\\u003e\",\"legendgroup\":\"예리한 둔기 각인서\",\"line\":{\"color\":\"#00cc96\",\"dash\":\"solid\"},\"marker\":{\"symbol\":\"circle\",\"size\":8},\"mode\":\"markers+lines\",\"name\":\"예리한 둔기 각인서\",\"orientation\":\"v\",\"showlegend\":true,\"x\":[\"2024-11-18T15:54:30.546125\",\"2024-11-18T16:54:39.237619\"],\"xaxis\":\"x\",\"y\":[163800.0,164000.0],\"yaxis\":\"y\",\"type\":\"scatter\"},{\"customdata\":[[\"돌격대장 각인서\",\"유물\"],[\"돌격대장 각인서\",\"유물\"]],\"hovertemplate\":\"Name=%{customdata[0]}\\u003cbr\\u003eDate=%{x}\\u003cbr\\u003eRecentPrice=%{y}\\u003cbr\\u003eGrade=%{customdata[1]}\\u003cextra\\u003e\\u003c\\u002fextra\\u003e\",\"legendgroup\":\"돌격대장 각인서\",\"line\":{\"color\":\"#ab63fa\",\"dash\":\"solid\"},\"marker\":{\"symbol\":\"circle\",\"size\":8},\"mode\":\"markers+lines\",\"name\":\"돌격대장 각인서\",\"orientation\":\"v\",\"showlegend\":true,\"x\":[\"2024-11-18T15:54:31.195483\",\"2024-11-18T16:54:39.889316\"],\"xaxis\":\"x\",\"y\":[152000.0,155000.0],\"yaxis\":\"y\",\"type\":\"scatter\"},{\"customdata\":[[\"저주받은 인형 각인서\",\"유물\"],[\"저주받은 인형 각인서\",\"유물\"]],\"hovertemplate\":\"Name=%{customdata[0]}\\u003cbr\\u003eDate=%{x}\\u003cbr\\u003eRecentPrice=%{y}\\u003cbr\\u003eGrade=%{customdata[1]}\\u003cextra\\u003e\\u003c\\u002fextra\\u003e\",\"legendgroup\":\"저주받은 인형 각인서\",\"line\":{\"color\":\"#FFA15A\",\"dash\":\"solid\"},\"marker\":{\"symbol\":\"circle\",\"size\":8},\"mode\":\"markers+lines\",\"name\":\"저주받은 인형 각인서\",\"orientation\":\"v\",\"showlegend\":true,\"x\":[\"2024-11-18T15:54:31.865468\",\"2024-11-18T16:54:40.592375\"],\"xaxis\":\"x\",\"y\":[147599.0,147655.0],\"yaxis\":\"y\",\"type\":\"scatter\"},{\"customdata\":[[\"기습의 대가 각인서\",\"유물\"],[\"기습의 대가 각인서\",\"유물\"]],\"hovertemplate\":\"Name=%{customdata[0]}\\u003cbr\\u003eDate=%{x}\\u003cbr\\u003eRecentPrice=%{y}\\u003cbr\\u003eGrade=%{customdata[1]}\\u003cextra\\u003e\\u003c\\u002fextra\\u003e\",\"legendgroup\":\"기습의 대가 각인서\",\"line\":{\"color\":\"#19d3f3\",\"dash\":\"solid\"},\"marker\":{\"symbol\":\"circle\",\"size\":8},\"mode\":\"markers+lines\",\"name\":\"기습의 대가 각인서\",\"orientation\":\"v\",\"showlegend\":true,\"x\":[\"2024-11-18T15:54:32.503390\",\"2024-11-18T16:54:41.234361\"],\"xaxis\":\"x\",\"y\":[99300.0,98333.0],\"yaxis\":\"y\",\"type\":\"scatter\"},{\"customdata\":[[\"타격의 대가 각인서\",\"유물\"],[\"타격의 대가 각인서\",\"유물\"]],\"hovertemplate\":\"Name=%{customdata[0]}\\u003cbr\\u003eDate=%{x}\\u003cbr\\u003eRecentPrice=%{y}\\u003cbr\\u003eGrade=%{customdata[1]}\\u003cextra\\u003e\\u003c\\u002fextra\\u003e\",\"legendgroup\":\"타격의 대가 각인서\",\"line\":{\"color\":\"#FF6692\",\"dash\":\"solid\"},\"marker\":{\"symbol\":\"circle\",\"size\":8},\"mode\":\"markers+lines\",\"name\":\"타격의 대가 각인서\",\"orientation\":\"v\",\"showlegend\":true,\"x\":[\"2024-11-18T15:54:33.175288\",\"2024-11-18T16:54:41.885407\"],\"xaxis\":\"x\",\"y\":[87300.0,87488.0],\"yaxis\":\"y\",\"type\":\"scatter\"},{\"customdata\":[[\"질량 증가 각인서\",\"유물\"],[\"질량 증가 각인서\",\"유물\"]],\"hovertemplate\":\"Name=%{customdata[0]}\\u003cbr\\u003eDate=%{x}\\u003cbr\\u003eRecentPrice=%{y}\\u003cbr\\u003eGrade=%{customdata[1]}\\u003cextra\\u003e\\u003c\\u002fextra\\u003e\",\"legendgroup\":\"질량 증가 각인서\",\"line\":{\"color\":\"#B6E880\",\"dash\":\"solid\"},\"marker\":{\"symbol\":\"circle\",\"size\":8},\"mode\":\"markers+lines\",\"name\":\"질량 증가 각인서\",\"orientation\":\"v\",\"showlegend\":true,\"x\":[\"2024-11-18T15:54:33.842705\",\"2024-11-18T16:54:42.563078\"],\"xaxis\":\"x\",\"y\":[84500.0,82111.0],\"yaxis\":\"y\",\"type\":\"scatter\"},{\"customdata\":[[\"마나의 흐름 각인서\",\"유물\"],[\"마나의 흐름 각인서\",\"유물\"]],\"hovertemplate\":\"Name=%{customdata[0]}\\u003cbr\\u003eDate=%{x}\\u003cbr\\u003eRecentPrice=%{y}\\u003cbr\\u003eGrade=%{customdata[1]}\\u003cextra\\u003e\\u003c\\u002fextra\\u003e\",\"legendgroup\":\"마나의 흐름 각인서\",\"line\":{\"color\":\"#FF97FF\",\"dash\":\"solid\"},\"marker\":{\"symbol\":\"circle\",\"size\":8},\"mode\":\"markers+lines\",\"name\":\"마나의 흐름 각인서\",\"orientation\":\"v\",\"showlegend\":true,\"x\":[\"2024-11-18T15:54:34.500839\",\"2024-11-18T16:54:43.215317\"],\"xaxis\":\"x\",\"y\":[61500.0,60998.0],\"yaxis\":\"y\",\"type\":\"scatter\"},{\"customdata\":[[\"슈퍼 차지 각인서\",\"유물\"],[\"슈퍼 차지 각인서\",\"유물\"]],\"hovertemplate\":\"Name=%{customdata[0]}\\u003cbr\\u003eDate=%{x}\\u003cbr\\u003eRecentPrice=%{y}\\u003cbr\\u003eGrade=%{customdata[1]}\\u003cextra\\u003e\\u003c\\u002fextra\\u003e\",\"legendgroup\":\"슈퍼 차지 각인서\",\"line\":{\"color\":\"#FECB52\",\"dash\":\"solid\"},\"marker\":{\"symbol\":\"circle\",\"size\":8},\"mode\":\"markers+lines\",\"name\":\"슈퍼 차지 각인서\",\"orientation\":\"v\",\"showlegend\":true,\"x\":[\"2024-11-18T15:54:35.125917\",\"2024-11-18T16:54:43.869390\"],\"xaxis\":\"x\",\"y\":[48999.0,49498.0],\"yaxis\":\"y\",\"type\":\"scatter\"}],                        {\"template\":{\"data\":{\"histogram2dcontour\":[{\"type\":\"histogram2dcontour\",\"colorbar\":{\"outlinewidth\":0,\"ticks\":\"\"},\"colorscale\":[[0.0,\"#0d0887\"],[0.1111111111111111,\"#46039f\"],[0.2222222222222222,\"#7201a8\"],[0.3333333333333333,\"#9c179e\"],[0.4444444444444444,\"#bd3786\"],[0.5555555555555556,\"#d8576b\"],[0.6666666666666666,\"#ed7953\"],[0.7777777777777778,\"#fb9f3a\"],[0.8888888888888888,\"#fdca26\"],[1.0,\"#f0f921\"]]}],\"choropleth\":[{\"type\":\"choropleth\",\"colorbar\":{\"outlinewidth\":0,\"ticks\":\"\"}}],\"histogram2d\":[{\"type\":\"histogram2d\",\"colorbar\":{\"outlinewidth\":0,\"ticks\":\"\"},\"colorscale\":[[0.0,\"#0d0887\"],[0.1111111111111111,\"#46039f\"],[0.2222222222222222,\"#7201a8\"],[0.3333333333333333,\"#9c179e\"],[0.4444444444444444,\"#bd3786\"],[0.5555555555555556,\"#d8576b\"],[0.6666666666666666,\"#ed7953\"],[0.7777777777777778,\"#fb9f3a\"],[0.8888888888888888,\"#fdca26\"],[1.0,\"#f0f921\"]]}],\"heatmap\":[{\"type\":\"heatmap\",\"colorbar\":{\"outlinewidth\":0,\"ticks\":\"\"},\"colorscale\":[[0.0,\"#0d0887\"],[0.1111111111111111,\"#46039f\"],[0.2222222222222222,\"#7201a8\"],[0.3333333333333333,\"#9c179e\"],[0.4444444444444444,\"#bd3786\"],[0.5555555555555556,\"#d8576b\"],[0.6666666666666666,\"#ed7953\"],[0.7777777777777778,\"#fb9f3a\"],[0.8888888888888888,\"#fdca26\"],[1.0,\"#f0f921\"]]}],\"heatmapgl\":[{\"type\":\"heatmapgl\",\"colorbar\":{\"outlinewidth\":0,\"ticks\":\"\"},\"colorscale\":[[0.0,\"#0d0887\"],[0.1111111111111111,\"#46039f\"],[0.2222222222222222,\"#7201a8\"],[0.3333333333333333,\"#9c179e\"],[0.4444444444444444,\"#bd3786\"],[0.5555555555555556,\"#d8576b\"],[0.6666666666666666,\"#ed7953\"],[0.7777777777777778,\"#fb9f3a\"],[0.8888888888888888,\"#fdca26\"],[1.0,\"#f0f921\"]]}],\"contourcarpet\":[{\"type\":\"contourcarpet\",\"colorbar\":{\"outlinewidth\":0,\"ticks\":\"\"}}],\"contour\":[{\"type\":\"contour\",\"colorbar\":{\"outlinewidth\":0,\"ticks\":\"\"},\"colorscale\":[[0.0,\"#0d0887\"],[0.1111111111111111,\"#46039f\"],[0.2222222222222222,\"#7201a8\"],[0.3333333333333333,\"#9c179e\"],[0.4444444444444444,\"#bd3786\"],[0.5555555555555556,\"#d8576b\"],[0.6666666666666666,\"#ed7953\"],[0.7777777777777778,\"#fb9f3a\"],[0.8888888888888888,\"#fdca26\"],[1.0,\"#f0f921\"]]}],\"surface\":[{\"type\":\"surface\",\"colorbar\":{\"outlinewidth\":0,\"ticks\":\"\"},\"colorscale\":[[0.0,\"#0d0887\"],[0.1111111111111111,\"#46039f\"],[0.2222222222222222,\"#7201a8\"],[0.3333333333333333,\"#9c179e\"],[0.4444444444444444,\"#bd3786\"],[0.5555555555555556,\"#d8576b\"],[0.6666666666666666,\"#ed7953\"],[0.7777777777777778,\"#fb9f3a\"],[0.8888888888888888,\"#fdca26\"],[1.0,\"#f0f921\"]]}],\"mesh3d\":[{\"type\":\"mesh3d\",\"colorbar\":{\"outlinewidth\":0,\"ticks\":\"\"}}],\"scatter\":[{\"fillpattern\":{\"fillmode\":\"overlay\",\"size\":10,\"solidity\":0.2},\"type\":\"scatter\"}],\"parcoords\":[{\"type\":\"parcoords\",\"line\":{\"colorbar\":{\"outlinewidth\":0,\"ticks\":\"\"}}}],\"scatterpolargl\":[{\"type\":\"scatterpolargl\",\"marker\":{\"colorbar\":{\"outlinewidth\":0,\"ticks\":\"\"}}}],\"bar\":[{\"error_x\":{\"color\":\"#2a3f5f\"},\"error_y\":{\"color\":\"#2a3f5f\"},\"marker\":{\"line\":{\"color\":\"#E5ECF6\",\"width\":0.5},\"pattern\":{\"fillmode\":\"overlay\",\"size\":10,\"solidity\":0.2}},\"type\":\"bar\"}],\"scattergeo\":[{\"type\":\"scattergeo\",\"marker\":{\"colorbar\":{\"outlinewidth\":0,\"ticks\":\"\"}}}],\"scatterpolar\":[{\"type\":\"scatterpolar\",\"marker\":{\"colorbar\":{\"outlinewidth\":0,\"ticks\":\"\"}}}],\"histogram\":[{\"marker\":{\"pattern\":{\"fillmode\":\"overlay\",\"size\":10,\"solidity\":0.2}},\"type\":\"histogram\"}],\"scattergl\":[{\"type\":\"scattergl\",\"marker\":{\"colorbar\":{\"outlinewidth\":0,\"ticks\":\"\"}}}],\"scatter3d\":[{\"type\":\"scatter3d\",\"line\":{\"colorbar\":{\"outlinewidth\":0,\"ticks\":\"\"}},\"marker\":{\"colorbar\":{\"outlinewidth\":0,\"ticks\":\"\"}}}],\"scattermapbox\":[{\"type\":\"scattermapbox\",\"marker\":{\"colorbar\":{\"outlinewidth\":0,\"ticks\":\"\"}}}],\"scatterternary\":[{\"type\":\"scatterternary\",\"marker\":{\"colorbar\":{\"outlinewidth\":0,\"ticks\":\"\"}}}],\"scattercarpet\":[{\"type\":\"scattercarpet\",\"marker\":{\"colorbar\":{\"outlinewidth\":0,\"ticks\":\"\"}}}],\"carpet\":[{\"aaxis\":{\"endlinecolor\":\"#2a3f5f\",\"gridcolor\":\"white\",\"linecolor\":\"white\",\"minorgridcolor\":\"white\",\"startlinecolor\":\"#2a3f5f\"},\"baxis\":{\"endlinecolor\":\"#2a3f5f\",\"gridcolor\":\"white\",\"linecolor\":\"white\",\"minorgridcolor\":\"white\",\"startlinecolor\":\"#2a3f5f\"},\"type\":\"carpet\"}],\"table\":[{\"cells\":{\"fill\":{\"color\":\"#EBF0F8\"},\"line\":{\"color\":\"white\"}},\"header\":{\"fill\":{\"color\":\"#C8D4E3\"},\"line\":{\"color\":\"white\"}},\"type\":\"table\"}],\"barpolar\":[{\"marker\":{\"line\":{\"color\":\"#E5ECF6\",\"width\":0.5},\"pattern\":{\"fillmode\":\"overlay\",\"size\":10,\"solidity\":0.2}},\"type\":\"barpolar\"}],\"pie\":[{\"automargin\":true,\"type\":\"pie\"}]},\"layout\":{\"autotypenumbers\":\"strict\",\"colorway\":[\"#636efa\",\"#EF553B\",\"#00cc96\",\"#ab63fa\",\"#FFA15A\",\"#19d3f3\",\"#FF6692\",\"#B6E880\",\"#FF97FF\",\"#FECB52\"],\"font\":{\"color\":\"#2a3f5f\"},\"hovermode\":\"closest\",\"hoverlabel\":{\"align\":\"left\"},\"paper_bgcolor\":\"white\",\"plot_bgcolor\":\"#E5ECF6\",\"polar\":{\"bgcolor\":\"#E5ECF6\",\"angularaxis\":{\"gridcolor\":\"white\",\"linecolor\":\"white\",\"ticks\":\"\"},\"radialaxis\":{\"gridcolor\":\"white\",\"linecolor\":\"white\",\"ticks\":\"\"}},\"ternary\":{\"bgcolor\":\"#E5ECF6\",\"aaxis\":{\"gridcolor\":\"white\",\"linecolor\":\"white\",\"ticks\":\"\"},\"baxis\":{\"gridcolor\":\"white\",\"linecolor\":\"white\",\"ticks\":\"\"},\"caxis\":{\"gridcolor\":\"white\",\"linecolor\":\"white\",\"ticks\":\"\"}},\"coloraxis\":{\"colorbar\":{\"outlinewidth\":0,\"ticks\":\"\"}},\"colorscale\":{\"sequential\":[[0.0,\"#0d0887\"],[0.1111111111111111,\"#46039f\"],[0.2222222222222222,\"#7201a8\"],[0.3333333333333333,\"#9c179e\"],[0.4444444444444444,\"#bd3786\"],[0.5555555555555556,\"#d8576b\"],[0.6666666666666666,\"#ed7953\"],[0.7777777777777778,\"#fb9f3a\"],[0.8888888888888888,\"#fdca26\"],[1.0,\"#f0f921\"]],\"sequentialminus\":[[0.0,\"#0d0887\"],[0.1111111111111111,\"#46039f\"],[0.2222222222222222,\"#7201a8\"],[0.3333333333333333,\"#9c179e\"],[0.4444444444444444,\"#bd3786\"],[0.5555555555555556,\"#d8576b\"],[0.6666666666666666,\"#ed7953\"],[0.7777777777777778,\"#fb9f3a\"],[0.8888888888888888,\"#fdca26\"],[1.0,\"#f0f921\"]],\"diverging\":[[0,\"#8e0152\"],[0.1,\"#c51b7d\"],[0.2,\"#de77ae\"],[0.3,\"#f1b6da\"],[0.4,\"#fde0ef\"],[0.5,\"#f7f7f7\"],[0.6,\"#e6f5d0\"],[0.7,\"#b8e186\"],[0.8,\"#7fbc41\"],[0.9,\"#4d9221\"],[1,\"#276419\"]]},\"xaxis\":{\"gridcolor\":\"white\",\"linecolor\":\"white\",\"ticks\":\"\",\"title\":{\"standoff\":15},\"zerolinecolor\":\"white\",\"automargin\":true,\"zerolinewidth\":2},\"yaxis\":{\"gridcolor\":\"white\",\"linecolor\":\"white\",\"ticks\":\"\",\"title\":{\"standoff\":15},\"zerolinecolor\":\"white\",\"automargin\":true,\"zerolinewidth\":2},\"scene\":{\"xaxis\":{\"backgroundcolor\":\"#E5ECF6\",\"gridcolor\":\"white\",\"linecolor\":\"white\",\"showbackground\":true,\"ticks\":\"\",\"zerolinecolor\":\"white\",\"gridwidth\":2},\"yaxis\":{\"backgroundcolor\":\"#E5ECF6\",\"gridcolor\":\"white\",\"linecolor\":\"white\",\"showbackground\":true,\"ticks\":\"\",\"zerolinecolor\":\"white\",\"gridwidth\":2},\"zaxis\":{\"backgroundcolor\":\"#E5ECF6\",\"gridcolor\":\"white\",\"linecolor\":\"white\",\"showbackground\":true,\"ticks\":\"\",\"zerolinecolor\":\"white\",\"gridwidth\":2}},\"shapedefaults\":{\"line\":{\"color\":\"#2a3f5f\"}},\"annotationdefaults\":{\"arrowcolor\":\"#2a3f5f\",\"arrowhead\":0,\"arrowwidth\":1},\"geo\":{\"bgcolor\":\"white\",\"landcolor\":\"#E5ECF6\",\"subunitcolor\":\"white\",\"showland\":true,\"showlakes\":true,\"lakecolor\":\"white\"},\"title\":{\"x\":0.05},\"mapbox\":{\"style\":\"light\"}}},\"xaxis\":{\"anchor\":\"y\",\"domain\":[0.0,1.0],\"title\":{},\"showticklabels\":false,\"showgrid\":false},\"yaxis\":{\"anchor\":\"x\",\"domain\":[0.0,1.0],\"title\":{\"text\":\"최근 가격\"}},\"legend\":{\"title\":{\"text\":\"아이템 이름\"},\"tracegroupgap\":0},\"title\":{\"text\":\"각인서 가격 변동 그래프\",\"font\":{\"size\":20}},\"hovermode\":\"x unified\"},                        {\"responsive\": true}                    ).then(function(){\n",
              "                            \n",
              "var gd = document.getElementById('a44e4a06-2990-49bd-b904-c26a257ceacc');\n",
              "var x = new MutationObserver(function (mutations, observer) {{\n",
              "        var display = window.getComputedStyle(gd).display;\n",
              "        if (!display || display === 'none') {{\n",
              "            console.log([gd, 'removed!']);\n",
              "            Plotly.purge(gd);\n",
              "            observer.disconnect();\n",
              "        }}\n",
              "}});\n",
              "\n",
              "// Listen for the removal of the full notebook cells\n",
              "var notebookContainer = gd.closest('#notebook-container');\n",
              "if (notebookContainer) {{\n",
              "    x.observe(notebookContainer, {childList: true});\n",
              "}}\n",
              "\n",
              "// Listen for the clearing of the current output cell\n",
              "var outputEl = gd.closest('.output');\n",
              "if (outputEl) {{\n",
              "    x.observe(outputEl, {childList: true});\n",
              "}}\n",
              "\n",
              "                        })                };                            </script>        </div>\n",
              "</body>\n",
              "</html>"
            ]
          },
          "metadata": {},
          "output_type": "display_data"
        },
        {
          "name": "stdout",
          "output_type": "stream",
          "text": [
            "[INFO] 1시간 대기 시작...\n",
            "\n",
            "[START] 데이터 업데이트 작업 시작\n",
            "[INFO] item_prices 테이블 확인 및 생성 완료.\n",
            "[INFO] DB에서 조회된 아이템 이름: ['아드레날린 각인서', '원한 각인서', '예리한 둔기 각인서', '돌격대장 각인서', '저주받은 인형 각인서', '기습의 대가 각인서', '타격의 대가 각인서', '질량 증가 각인서', '마나의 흐름 각인서', '슈퍼 차지 각인서']\n",
            "[INFO] '아드레날린 각인서' 시세 데이터 조회 중...\n",
            "[SUCCESS] '아드레날린 각인서' 데이터 저장 완료!\n",
            "[INFO] '원한 각인서' 시세 데이터 조회 중...\n",
            "[SUCCESS] '원한 각인서' 데이터 저장 완료!\n",
            "[INFO] '예리한 둔기 각인서' 시세 데이터 조회 중...\n",
            "[SUCCESS] '예리한 둔기 각인서' 데이터 저장 완료!\n",
            "[INFO] '돌격대장 각인서' 시세 데이터 조회 중...\n",
            "[SUCCESS] '돌격대장 각인서' 데이터 저장 완료!\n",
            "[INFO] '저주받은 인형 각인서' 시세 데이터 조회 중...\n",
            "[SUCCESS] '저주받은 인형 각인서' 데이터 저장 완료!\n",
            "[INFO] '기습의 대가 각인서' 시세 데이터 조회 중...\n",
            "[SUCCESS] '기습의 대가 각인서' 데이터 저장 완료!\n",
            "[INFO] '타격의 대가 각인서' 시세 데이터 조회 중...\n",
            "[SUCCESS] '타격의 대가 각인서' 데이터 저장 완료!\n",
            "[INFO] '질량 증가 각인서' 시세 데이터 조회 중...\n",
            "[SUCCESS] '질량 증가 각인서' 데이터 저장 완료!\n",
            "[INFO] '마나의 흐름 각인서' 시세 데이터 조회 중...\n",
            "[SUCCESS] '마나의 흐름 각인서' 데이터 저장 완료!\n",
            "[INFO] '슈퍼 차지 각인서' 시세 데이터 조회 중...\n",
            "[SUCCESS] '슈퍼 차지 각인서' 데이터 저장 완료!\n",
            "[INFO] 모든 데이터가 데이터베이스에 저장되었습니다.\n",
            "[INFO] 데이터를 CSV 파일로 저장했습니다: item_price_data.csv\n",
            "[START] 그래프 생성 및 표시 작업 시작\n",
            "[INFO] 데이터베이스에서 그래프 데이터를 가져왔습니다.\n",
            "[INFO] 그래프 생성 완료. Plotly 창을 통해 표시합니다.\n"
          ]
        },
        {
          "data": {
            "text/html": [
              "<html>\n",
              "<head><meta charset=\"utf-8\" /></head>\n",
              "<body>\n",
              "    <div>            <script src=\"https://cdnjs.cloudflare.com/ajax/libs/mathjax/2.7.5/MathJax.js?config=TeX-AMS-MML_SVG\"></script><script type=\"text/javascript\">if (window.MathJax && window.MathJax.Hub && window.MathJax.Hub.Config) {window.MathJax.Hub.Config({SVG: {font: \"STIX-Web\"}});}</script>                <script type=\"text/javascript\">window.PlotlyConfig = {MathJaxConfig: 'local'};</script>\n",
              "        <script charset=\"utf-8\" src=\"https://cdn.plot.ly/plotly-2.35.2.min.js\"></script>                <div id=\"40079381-fca3-4632-95f0-9f0cb4da27f4\" class=\"plotly-graph-div\" style=\"height:525px; width:100%;\"></div>            <script type=\"text/javascript\">                                    window.PLOTLYENV=window.PLOTLYENV || {};                                    if (document.getElementById(\"40079381-fca3-4632-95f0-9f0cb4da27f4\")) {                    Plotly.newPlot(                        \"40079381-fca3-4632-95f0-9f0cb4da27f4\",                        [{\"customdata\":[[\"아드레날린 각인서\",\"유물\"],[\"아드레날린 각인서\",\"유물\"],[\"아드레날린 각인서\",\"유물\"]],\"hovertemplate\":\"Name=%{customdata[0]}\\u003cbr\\u003eDate=%{x}\\u003cbr\\u003eRecentPrice=%{y}\\u003cbr\\u003eGrade=%{customdata[1]}\\u003cextra\\u003e\\u003c\\u002fextra\\u003e\",\"legendgroup\":\"아드레날린 각인서\",\"line\":{\"color\":\"#636efa\",\"dash\":\"solid\"},\"marker\":{\"symbol\":\"circle\",\"size\":8},\"mode\":\"markers+lines\",\"name\":\"아드레날린 각인서\",\"orientation\":\"v\",\"showlegend\":true,\"x\":[\"2024-11-18T15:54:29.089423\",\"2024-11-18T16:54:37.944293\",\"2024-11-18T17:54:44.814185\"],\"xaxis\":\"x\",\"y\":[284999.0,286000.0,299999.0],\"yaxis\":\"y\",\"type\":\"scatter\"},{\"customdata\":[[\"원한 각인서\",\"유물\"],[\"원한 각인서\",\"유물\"],[\"원한 각인서\",\"유물\"]],\"hovertemplate\":\"Name=%{customdata[0]}\\u003cbr\\u003eDate=%{x}\\u003cbr\\u003eRecentPrice=%{y}\\u003cbr\\u003eGrade=%{customdata[1]}\\u003cextra\\u003e\\u003c\\u002fextra\\u003e\",\"legendgroup\":\"원한 각인서\",\"line\":{\"color\":\"#EF553B\",\"dash\":\"solid\"},\"marker\":{\"symbol\":\"circle\",\"size\":8},\"mode\":\"markers+lines\",\"name\":\"원한 각인서\",\"orientation\":\"v\",\"showlegend\":true,\"x\":[\"2024-11-18T15:54:29.875035\",\"2024-11-18T16:54:38.599358\",\"2024-11-18T17:54:45.470097\"],\"xaxis\":\"x\",\"y\":[225555.0,224900.0,224999.0],\"yaxis\":\"y\",\"type\":\"scatter\"},{\"customdata\":[[\"예리한 둔기 각인서\",\"유물\"],[\"예리한 둔기 각인서\",\"유물\"],[\"예리한 둔기 각인서\",\"유물\"]],\"hovertemplate\":\"Name=%{customdata[0]}\\u003cbr\\u003eDate=%{x}\\u003cbr\\u003eRecentPrice=%{y}\\u003cbr\\u003eGrade=%{customdata[1]}\\u003cextra\\u003e\\u003c\\u002fextra\\u003e\",\"legendgroup\":\"예리한 둔기 각인서\",\"line\":{\"color\":\"#00cc96\",\"dash\":\"solid\"},\"marker\":{\"symbol\":\"circle\",\"size\":8},\"mode\":\"markers+lines\",\"name\":\"예리한 둔기 각인서\",\"orientation\":\"v\",\"showlegend\":true,\"x\":[\"2024-11-18T15:54:30.546125\",\"2024-11-18T16:54:39.237619\",\"2024-11-18T17:54:46.095071\"],\"xaxis\":\"x\",\"y\":[163800.0,164000.0,163450.0],\"yaxis\":\"y\",\"type\":\"scatter\"},{\"customdata\":[[\"돌격대장 각인서\",\"유물\"],[\"돌격대장 각인서\",\"유물\"],[\"돌격대장 각인서\",\"유물\"]],\"hovertemplate\":\"Name=%{customdata[0]}\\u003cbr\\u003eDate=%{x}\\u003cbr\\u003eRecentPrice=%{y}\\u003cbr\\u003eGrade=%{customdata[1]}\\u003cextra\\u003e\\u003c\\u002fextra\\u003e\",\"legendgroup\":\"돌격대장 각인서\",\"line\":{\"color\":\"#ab63fa\",\"dash\":\"solid\"},\"marker\":{\"symbol\":\"circle\",\"size\":8},\"mode\":\"markers+lines\",\"name\":\"돌격대장 각인서\",\"orientation\":\"v\",\"showlegend\":true,\"x\":[\"2024-11-18T15:54:31.195483\",\"2024-11-18T16:54:39.889316\",\"2024-11-18T17:54:46.741841\"],\"xaxis\":\"x\",\"y\":[152000.0,155000.0,155000.0],\"yaxis\":\"y\",\"type\":\"scatter\"},{\"customdata\":[[\"저주받은 인형 각인서\",\"유물\"],[\"저주받은 인형 각인서\",\"유물\"],[\"저주받은 인형 각인서\",\"유물\"]],\"hovertemplate\":\"Name=%{customdata[0]}\\u003cbr\\u003eDate=%{x}\\u003cbr\\u003eRecentPrice=%{y}\\u003cbr\\u003eGrade=%{customdata[1]}\\u003cextra\\u003e\\u003c\\u002fextra\\u003e\",\"legendgroup\":\"저주받은 인형 각인서\",\"line\":{\"color\":\"#FFA15A\",\"dash\":\"solid\"},\"marker\":{\"symbol\":\"circle\",\"size\":8},\"mode\":\"markers+lines\",\"name\":\"저주받은 인형 각인서\",\"orientation\":\"v\",\"showlegend\":true,\"x\":[\"2024-11-18T15:54:31.865468\",\"2024-11-18T16:54:40.592375\",\"2024-11-18T17:54:47.383727\"],\"xaxis\":\"x\",\"y\":[147599.0,147655.0,145000.0],\"yaxis\":\"y\",\"type\":\"scatter\"},{\"customdata\":[[\"기습의 대가 각인서\",\"유물\"],[\"기습의 대가 각인서\",\"유물\"],[\"기습의 대가 각인서\",\"유물\"]],\"hovertemplate\":\"Name=%{customdata[0]}\\u003cbr\\u003eDate=%{x}\\u003cbr\\u003eRecentPrice=%{y}\\u003cbr\\u003eGrade=%{customdata[1]}\\u003cextra\\u003e\\u003c\\u002fextra\\u003e\",\"legendgroup\":\"기습의 대가 각인서\",\"line\":{\"color\":\"#19d3f3\",\"dash\":\"solid\"},\"marker\":{\"symbol\":\"circle\",\"size\":8},\"mode\":\"markers+lines\",\"name\":\"기습의 대가 각인서\",\"orientation\":\"v\",\"showlegend\":true,\"x\":[\"2024-11-18T15:54:32.503390\",\"2024-11-18T16:54:41.234361\",\"2024-11-18T17:54:48.015691\"],\"xaxis\":\"x\",\"y\":[99300.0,98333.0,95000.0],\"yaxis\":\"y\",\"type\":\"scatter\"},{\"customdata\":[[\"타격의 대가 각인서\",\"유물\"],[\"타격의 대가 각인서\",\"유물\"],[\"타격의 대가 각인서\",\"유물\"]],\"hovertemplate\":\"Name=%{customdata[0]}\\u003cbr\\u003eDate=%{x}\\u003cbr\\u003eRecentPrice=%{y}\\u003cbr\\u003eGrade=%{customdata[1]}\\u003cextra\\u003e\\u003c\\u002fextra\\u003e\",\"legendgroup\":\"타격의 대가 각인서\",\"line\":{\"color\":\"#FF6692\",\"dash\":\"solid\"},\"marker\":{\"symbol\":\"circle\",\"size\":8},\"mode\":\"markers+lines\",\"name\":\"타격의 대가 각인서\",\"orientation\":\"v\",\"showlegend\":true,\"x\":[\"2024-11-18T15:54:33.175288\",\"2024-11-18T16:54:41.885407\",\"2024-11-18T17:54:48.669918\"],\"xaxis\":\"x\",\"y\":[87300.0,87488.0,87499.0],\"yaxis\":\"y\",\"type\":\"scatter\"},{\"customdata\":[[\"질량 증가 각인서\",\"유물\"],[\"질량 증가 각인서\",\"유물\"],[\"질량 증가 각인서\",\"유물\"]],\"hovertemplate\":\"Name=%{customdata[0]}\\u003cbr\\u003eDate=%{x}\\u003cbr\\u003eRecentPrice=%{y}\\u003cbr\\u003eGrade=%{customdata[1]}\\u003cextra\\u003e\\u003c\\u002fextra\\u003e\",\"legendgroup\":\"질량 증가 각인서\",\"line\":{\"color\":\"#B6E880\",\"dash\":\"solid\"},\"marker\":{\"symbol\":\"circle\",\"size\":8},\"mode\":\"markers+lines\",\"name\":\"질량 증가 각인서\",\"orientation\":\"v\",\"showlegend\":true,\"x\":[\"2024-11-18T15:54:33.842705\",\"2024-11-18T16:54:42.563078\",\"2024-11-18T17:54:49.321295\"],\"xaxis\":\"x\",\"y\":[84500.0,82111.0,81450.0],\"yaxis\":\"y\",\"type\":\"scatter\"},{\"customdata\":[[\"마나의 흐름 각인서\",\"유물\"],[\"마나의 흐름 각인서\",\"유물\"],[\"마나의 흐름 각인서\",\"유물\"]],\"hovertemplate\":\"Name=%{customdata[0]}\\u003cbr\\u003eDate=%{x}\\u003cbr\\u003eRecentPrice=%{y}\\u003cbr\\u003eGrade=%{customdata[1]}\\u003cextra\\u003e\\u003c\\u002fextra\\u003e\",\"legendgroup\":\"마나의 흐름 각인서\",\"line\":{\"color\":\"#FF97FF\",\"dash\":\"solid\"},\"marker\":{\"symbol\":\"circle\",\"size\":8},\"mode\":\"markers+lines\",\"name\":\"마나의 흐름 각인서\",\"orientation\":\"v\",\"showlegend\":true,\"x\":[\"2024-11-18T15:54:34.500839\",\"2024-11-18T16:54:43.215317\",\"2024-11-18T17:54:49.963761\"],\"xaxis\":\"x\",\"y\":[61500.0,60998.0,60000.0],\"yaxis\":\"y\",\"type\":\"scatter\"},{\"customdata\":[[\"슈퍼 차지 각인서\",\"유물\"],[\"슈퍼 차지 각인서\",\"유물\"],[\"슈퍼 차지 각인서\",\"유물\"]],\"hovertemplate\":\"Name=%{customdata[0]}\\u003cbr\\u003eDate=%{x}\\u003cbr\\u003eRecentPrice=%{y}\\u003cbr\\u003eGrade=%{customdata[1]}\\u003cextra\\u003e\\u003c\\u002fextra\\u003e\",\"legendgroup\":\"슈퍼 차지 각인서\",\"line\":{\"color\":\"#FECB52\",\"dash\":\"solid\"},\"marker\":{\"symbol\":\"circle\",\"size\":8},\"mode\":\"markers+lines\",\"name\":\"슈퍼 차지 각인서\",\"orientation\":\"v\",\"showlegend\":true,\"x\":[\"2024-11-18T15:54:35.125917\",\"2024-11-18T16:54:43.869390\",\"2024-11-18T17:54:50.585077\"],\"xaxis\":\"x\",\"y\":[48999.0,49498.0,49499.0],\"yaxis\":\"y\",\"type\":\"scatter\"}],                        {\"template\":{\"data\":{\"histogram2dcontour\":[{\"type\":\"histogram2dcontour\",\"colorbar\":{\"outlinewidth\":0,\"ticks\":\"\"},\"colorscale\":[[0.0,\"#0d0887\"],[0.1111111111111111,\"#46039f\"],[0.2222222222222222,\"#7201a8\"],[0.3333333333333333,\"#9c179e\"],[0.4444444444444444,\"#bd3786\"],[0.5555555555555556,\"#d8576b\"],[0.6666666666666666,\"#ed7953\"],[0.7777777777777778,\"#fb9f3a\"],[0.8888888888888888,\"#fdca26\"],[1.0,\"#f0f921\"]]}],\"choropleth\":[{\"type\":\"choropleth\",\"colorbar\":{\"outlinewidth\":0,\"ticks\":\"\"}}],\"histogram2d\":[{\"type\":\"histogram2d\",\"colorbar\":{\"outlinewidth\":0,\"ticks\":\"\"},\"colorscale\":[[0.0,\"#0d0887\"],[0.1111111111111111,\"#46039f\"],[0.2222222222222222,\"#7201a8\"],[0.3333333333333333,\"#9c179e\"],[0.4444444444444444,\"#bd3786\"],[0.5555555555555556,\"#d8576b\"],[0.6666666666666666,\"#ed7953\"],[0.7777777777777778,\"#fb9f3a\"],[0.8888888888888888,\"#fdca26\"],[1.0,\"#f0f921\"]]}],\"heatmap\":[{\"type\":\"heatmap\",\"colorbar\":{\"outlinewidth\":0,\"ticks\":\"\"},\"colorscale\":[[0.0,\"#0d0887\"],[0.1111111111111111,\"#46039f\"],[0.2222222222222222,\"#7201a8\"],[0.3333333333333333,\"#9c179e\"],[0.4444444444444444,\"#bd3786\"],[0.5555555555555556,\"#d8576b\"],[0.6666666666666666,\"#ed7953\"],[0.7777777777777778,\"#fb9f3a\"],[0.8888888888888888,\"#fdca26\"],[1.0,\"#f0f921\"]]}],\"heatmapgl\":[{\"type\":\"heatmapgl\",\"colorbar\":{\"outlinewidth\":0,\"ticks\":\"\"},\"colorscale\":[[0.0,\"#0d0887\"],[0.1111111111111111,\"#46039f\"],[0.2222222222222222,\"#7201a8\"],[0.3333333333333333,\"#9c179e\"],[0.4444444444444444,\"#bd3786\"],[0.5555555555555556,\"#d8576b\"],[0.6666666666666666,\"#ed7953\"],[0.7777777777777778,\"#fb9f3a\"],[0.8888888888888888,\"#fdca26\"],[1.0,\"#f0f921\"]]}],\"contourcarpet\":[{\"type\":\"contourcarpet\",\"colorbar\":{\"outlinewidth\":0,\"ticks\":\"\"}}],\"contour\":[{\"type\":\"contour\",\"colorbar\":{\"outlinewidth\":0,\"ticks\":\"\"},\"colorscale\":[[0.0,\"#0d0887\"],[0.1111111111111111,\"#46039f\"],[0.2222222222222222,\"#7201a8\"],[0.3333333333333333,\"#9c179e\"],[0.4444444444444444,\"#bd3786\"],[0.5555555555555556,\"#d8576b\"],[0.6666666666666666,\"#ed7953\"],[0.7777777777777778,\"#fb9f3a\"],[0.8888888888888888,\"#fdca26\"],[1.0,\"#f0f921\"]]}],\"surface\":[{\"type\":\"surface\",\"colorbar\":{\"outlinewidth\":0,\"ticks\":\"\"},\"colorscale\":[[0.0,\"#0d0887\"],[0.1111111111111111,\"#46039f\"],[0.2222222222222222,\"#7201a8\"],[0.3333333333333333,\"#9c179e\"],[0.4444444444444444,\"#bd3786\"],[0.5555555555555556,\"#d8576b\"],[0.6666666666666666,\"#ed7953\"],[0.7777777777777778,\"#fb9f3a\"],[0.8888888888888888,\"#fdca26\"],[1.0,\"#f0f921\"]]}],\"mesh3d\":[{\"type\":\"mesh3d\",\"colorbar\":{\"outlinewidth\":0,\"ticks\":\"\"}}],\"scatter\":[{\"fillpattern\":{\"fillmode\":\"overlay\",\"size\":10,\"solidity\":0.2},\"type\":\"scatter\"}],\"parcoords\":[{\"type\":\"parcoords\",\"line\":{\"colorbar\":{\"outlinewidth\":0,\"ticks\":\"\"}}}],\"scatterpolargl\":[{\"type\":\"scatterpolargl\",\"marker\":{\"colorbar\":{\"outlinewidth\":0,\"ticks\":\"\"}}}],\"bar\":[{\"error_x\":{\"color\":\"#2a3f5f\"},\"error_y\":{\"color\":\"#2a3f5f\"},\"marker\":{\"line\":{\"color\":\"#E5ECF6\",\"width\":0.5},\"pattern\":{\"fillmode\":\"overlay\",\"size\":10,\"solidity\":0.2}},\"type\":\"bar\"}],\"scattergeo\":[{\"type\":\"scattergeo\",\"marker\":{\"colorbar\":{\"outlinewidth\":0,\"ticks\":\"\"}}}],\"scatterpolar\":[{\"type\":\"scatterpolar\",\"marker\":{\"colorbar\":{\"outlinewidth\":0,\"ticks\":\"\"}}}],\"histogram\":[{\"marker\":{\"pattern\":{\"fillmode\":\"overlay\",\"size\":10,\"solidity\":0.2}},\"type\":\"histogram\"}],\"scattergl\":[{\"type\":\"scattergl\",\"marker\":{\"colorbar\":{\"outlinewidth\":0,\"ticks\":\"\"}}}],\"scatter3d\":[{\"type\":\"scatter3d\",\"line\":{\"colorbar\":{\"outlinewidth\":0,\"ticks\":\"\"}},\"marker\":{\"colorbar\":{\"outlinewidth\":0,\"ticks\":\"\"}}}],\"scattermapbox\":[{\"type\":\"scattermapbox\",\"marker\":{\"colorbar\":{\"outlinewidth\":0,\"ticks\":\"\"}}}],\"scatterternary\":[{\"type\":\"scatterternary\",\"marker\":{\"colorbar\":{\"outlinewidth\":0,\"ticks\":\"\"}}}],\"scattercarpet\":[{\"type\":\"scattercarpet\",\"marker\":{\"colorbar\":{\"outlinewidth\":0,\"ticks\":\"\"}}}],\"carpet\":[{\"aaxis\":{\"endlinecolor\":\"#2a3f5f\",\"gridcolor\":\"white\",\"linecolor\":\"white\",\"minorgridcolor\":\"white\",\"startlinecolor\":\"#2a3f5f\"},\"baxis\":{\"endlinecolor\":\"#2a3f5f\",\"gridcolor\":\"white\",\"linecolor\":\"white\",\"minorgridcolor\":\"white\",\"startlinecolor\":\"#2a3f5f\"},\"type\":\"carpet\"}],\"table\":[{\"cells\":{\"fill\":{\"color\":\"#EBF0F8\"},\"line\":{\"color\":\"white\"}},\"header\":{\"fill\":{\"color\":\"#C8D4E3\"},\"line\":{\"color\":\"white\"}},\"type\":\"table\"}],\"barpolar\":[{\"marker\":{\"line\":{\"color\":\"#E5ECF6\",\"width\":0.5},\"pattern\":{\"fillmode\":\"overlay\",\"size\":10,\"solidity\":0.2}},\"type\":\"barpolar\"}],\"pie\":[{\"automargin\":true,\"type\":\"pie\"}]},\"layout\":{\"autotypenumbers\":\"strict\",\"colorway\":[\"#636efa\",\"#EF553B\",\"#00cc96\",\"#ab63fa\",\"#FFA15A\",\"#19d3f3\",\"#FF6692\",\"#B6E880\",\"#FF97FF\",\"#FECB52\"],\"font\":{\"color\":\"#2a3f5f\"},\"hovermode\":\"closest\",\"hoverlabel\":{\"align\":\"left\"},\"paper_bgcolor\":\"white\",\"plot_bgcolor\":\"#E5ECF6\",\"polar\":{\"bgcolor\":\"#E5ECF6\",\"angularaxis\":{\"gridcolor\":\"white\",\"linecolor\":\"white\",\"ticks\":\"\"},\"radialaxis\":{\"gridcolor\":\"white\",\"linecolor\":\"white\",\"ticks\":\"\"}},\"ternary\":{\"bgcolor\":\"#E5ECF6\",\"aaxis\":{\"gridcolor\":\"white\",\"linecolor\":\"white\",\"ticks\":\"\"},\"baxis\":{\"gridcolor\":\"white\",\"linecolor\":\"white\",\"ticks\":\"\"},\"caxis\":{\"gridcolor\":\"white\",\"linecolor\":\"white\",\"ticks\":\"\"}},\"coloraxis\":{\"colorbar\":{\"outlinewidth\":0,\"ticks\":\"\"}},\"colorscale\":{\"sequential\":[[0.0,\"#0d0887\"],[0.1111111111111111,\"#46039f\"],[0.2222222222222222,\"#7201a8\"],[0.3333333333333333,\"#9c179e\"],[0.4444444444444444,\"#bd3786\"],[0.5555555555555556,\"#d8576b\"],[0.6666666666666666,\"#ed7953\"],[0.7777777777777778,\"#fb9f3a\"],[0.8888888888888888,\"#fdca26\"],[1.0,\"#f0f921\"]],\"sequentialminus\":[[0.0,\"#0d0887\"],[0.1111111111111111,\"#46039f\"],[0.2222222222222222,\"#7201a8\"],[0.3333333333333333,\"#9c179e\"],[0.4444444444444444,\"#bd3786\"],[0.5555555555555556,\"#d8576b\"],[0.6666666666666666,\"#ed7953\"],[0.7777777777777778,\"#fb9f3a\"],[0.8888888888888888,\"#fdca26\"],[1.0,\"#f0f921\"]],\"diverging\":[[0,\"#8e0152\"],[0.1,\"#c51b7d\"],[0.2,\"#de77ae\"],[0.3,\"#f1b6da\"],[0.4,\"#fde0ef\"],[0.5,\"#f7f7f7\"],[0.6,\"#e6f5d0\"],[0.7,\"#b8e186\"],[0.8,\"#7fbc41\"],[0.9,\"#4d9221\"],[1,\"#276419\"]]},\"xaxis\":{\"gridcolor\":\"white\",\"linecolor\":\"white\",\"ticks\":\"\",\"title\":{\"standoff\":15},\"zerolinecolor\":\"white\",\"automargin\":true,\"zerolinewidth\":2},\"yaxis\":{\"gridcolor\":\"white\",\"linecolor\":\"white\",\"ticks\":\"\",\"title\":{\"standoff\":15},\"zerolinecolor\":\"white\",\"automargin\":true,\"zerolinewidth\":2},\"scene\":{\"xaxis\":{\"backgroundcolor\":\"#E5ECF6\",\"gridcolor\":\"white\",\"linecolor\":\"white\",\"showbackground\":true,\"ticks\":\"\",\"zerolinecolor\":\"white\",\"gridwidth\":2},\"yaxis\":{\"backgroundcolor\":\"#E5ECF6\",\"gridcolor\":\"white\",\"linecolor\":\"white\",\"showbackground\":true,\"ticks\":\"\",\"zerolinecolor\":\"white\",\"gridwidth\":2},\"zaxis\":{\"backgroundcolor\":\"#E5ECF6\",\"gridcolor\":\"white\",\"linecolor\":\"white\",\"showbackground\":true,\"ticks\":\"\",\"zerolinecolor\":\"white\",\"gridwidth\":2}},\"shapedefaults\":{\"line\":{\"color\":\"#2a3f5f\"}},\"annotationdefaults\":{\"arrowcolor\":\"#2a3f5f\",\"arrowhead\":0,\"arrowwidth\":1},\"geo\":{\"bgcolor\":\"white\",\"landcolor\":\"#E5ECF6\",\"subunitcolor\":\"white\",\"showland\":true,\"showlakes\":true,\"lakecolor\":\"white\"},\"title\":{\"x\":0.05},\"mapbox\":{\"style\":\"light\"}}},\"xaxis\":{\"anchor\":\"y\",\"domain\":[0.0,1.0],\"title\":{},\"showticklabels\":false,\"showgrid\":false},\"yaxis\":{\"anchor\":\"x\",\"domain\":[0.0,1.0],\"title\":{\"text\":\"최근 가격\"}},\"legend\":{\"title\":{\"text\":\"아이템 이름\"},\"tracegroupgap\":0},\"title\":{\"text\":\"각인서 가격 변동 그래프\",\"font\":{\"size\":20}},\"hovermode\":\"x unified\"},                        {\"responsive\": true}                    ).then(function(){\n",
              "                            \n",
              "var gd = document.getElementById('40079381-fca3-4632-95f0-9f0cb4da27f4');\n",
              "var x = new MutationObserver(function (mutations, observer) {{\n",
              "        var display = window.getComputedStyle(gd).display;\n",
              "        if (!display || display === 'none') {{\n",
              "            console.log([gd, 'removed!']);\n",
              "            Plotly.purge(gd);\n",
              "            observer.disconnect();\n",
              "        }}\n",
              "}});\n",
              "\n",
              "// Listen for the removal of the full notebook cells\n",
              "var notebookContainer = gd.closest('#notebook-container');\n",
              "if (notebookContainer) {{\n",
              "    x.observe(notebookContainer, {childList: true});\n",
              "}}\n",
              "\n",
              "// Listen for the clearing of the current output cell\n",
              "var outputEl = gd.closest('.output');\n",
              "if (outputEl) {{\n",
              "    x.observe(outputEl, {childList: true});\n",
              "}}\n",
              "\n",
              "                        })                };                            </script>        </div>\n",
              "</body>\n",
              "</html>"
            ]
          },
          "metadata": {},
          "output_type": "display_data"
        },
        {
          "name": "stdout",
          "output_type": "stream",
          "text": [
            "[INFO] 1시간 대기 시작...\n",
            "\n",
            "[START] 데이터 업데이트 작업 시작\n",
            "[INFO] item_prices 테이블 확인 및 생성 완료.\n",
            "[INFO] DB에서 조회된 아이템 이름: ['아드레날린 각인서', '원한 각인서', '예리한 둔기 각인서', '돌격대장 각인서', '저주받은 인형 각인서', '기습의 대가 각인서', '타격의 대가 각인서', '질량 증가 각인서', '마나의 흐름 각인서', '슈퍼 차지 각인서']\n",
            "[INFO] '아드레날린 각인서' 시세 데이터 조회 중...\n",
            "[SUCCESS] '아드레날린 각인서' 데이터 저장 완료!\n",
            "[INFO] '원한 각인서' 시세 데이터 조회 중...\n",
            "[SUCCESS] '원한 각인서' 데이터 저장 완료!\n",
            "[INFO] '예리한 둔기 각인서' 시세 데이터 조회 중...\n",
            "[SUCCESS] '예리한 둔기 각인서' 데이터 저장 완료!\n",
            "[INFO] '돌격대장 각인서' 시세 데이터 조회 중...\n",
            "[SUCCESS] '돌격대장 각인서' 데이터 저장 완료!\n",
            "[INFO] '저주받은 인형 각인서' 시세 데이터 조회 중...\n",
            "[SUCCESS] '저주받은 인형 각인서' 데이터 저장 완료!\n",
            "[INFO] '기습의 대가 각인서' 시세 데이터 조회 중...\n",
            "[SUCCESS] '기습의 대가 각인서' 데이터 저장 완료!\n",
            "[INFO] '타격의 대가 각인서' 시세 데이터 조회 중...\n",
            "[SUCCESS] '타격의 대가 각인서' 데이터 저장 완료!\n",
            "[INFO] '질량 증가 각인서' 시세 데이터 조회 중...\n",
            "[SUCCESS] '질량 증가 각인서' 데이터 저장 완료!\n",
            "[INFO] '마나의 흐름 각인서' 시세 데이터 조회 중...\n",
            "[SUCCESS] '마나의 흐름 각인서' 데이터 저장 완료!\n",
            "[INFO] '슈퍼 차지 각인서' 시세 데이터 조회 중...\n",
            "[SUCCESS] '슈퍼 차지 각인서' 데이터 저장 완료!\n",
            "[INFO] 모든 데이터가 데이터베이스에 저장되었습니다.\n",
            "[INFO] 데이터를 CSV 파일로 저장했습니다: item_price_data.csv\n",
            "[START] 그래프 생성 및 표시 작업 시작\n",
            "[INFO] 데이터베이스에서 그래프 데이터를 가져왔습니다.\n",
            "[INFO] 그래프 생성 완료. Plotly 창을 통해 표시합니다.\n"
          ]
        },
        {
          "data": {
            "text/html": [
              "<html>\n",
              "<head><meta charset=\"utf-8\" /></head>\n",
              "<body>\n",
              "    <div>            <script src=\"https://cdnjs.cloudflare.com/ajax/libs/mathjax/2.7.5/MathJax.js?config=TeX-AMS-MML_SVG\"></script><script type=\"text/javascript\">if (window.MathJax && window.MathJax.Hub && window.MathJax.Hub.Config) {window.MathJax.Hub.Config({SVG: {font: \"STIX-Web\"}});}</script>                <script type=\"text/javascript\">window.PlotlyConfig = {MathJaxConfig: 'local'};</script>\n",
              "        <script charset=\"utf-8\" src=\"https://cdn.plot.ly/plotly-2.35.2.min.js\"></script>                <div id=\"0e6fb84d-cbc4-4dc3-af45-8105eb17bdd0\" class=\"plotly-graph-div\" style=\"height:525px; width:100%;\"></div>            <script type=\"text/javascript\">                                    window.PLOTLYENV=window.PLOTLYENV || {};                                    if (document.getElementById(\"0e6fb84d-cbc4-4dc3-af45-8105eb17bdd0\")) {                    Plotly.newPlot(                        \"0e6fb84d-cbc4-4dc3-af45-8105eb17bdd0\",                        [{\"customdata\":[[\"아드레날린 각인서\",\"유물\"],[\"아드레날린 각인서\",\"유물\"],[\"아드레날린 각인서\",\"유물\"],[\"아드레날린 각인서\",\"유물\"]],\"hovertemplate\":\"Name=%{customdata[0]}\\u003cbr\\u003eDate=%{x}\\u003cbr\\u003eRecentPrice=%{y}\\u003cbr\\u003eGrade=%{customdata[1]}\\u003cextra\\u003e\\u003c\\u002fextra\\u003e\",\"legendgroup\":\"아드레날린 각인서\",\"line\":{\"color\":\"#636efa\",\"dash\":\"solid\"},\"marker\":{\"symbol\":\"circle\",\"size\":8},\"mode\":\"markers+lines\",\"name\":\"아드레날린 각인서\",\"orientation\":\"v\",\"showlegend\":true,\"x\":[\"2024-11-18T15:54:29.089423\",\"2024-11-18T16:54:37.944293\",\"2024-11-18T17:54:44.814185\",\"2024-11-18T18:54:51.449041\"],\"xaxis\":\"x\",\"y\":[284999.0,286000.0,299999.0,299900.0],\"yaxis\":\"y\",\"type\":\"scatter\"},{\"customdata\":[[\"원한 각인서\",\"유물\"],[\"원한 각인서\",\"유물\"],[\"원한 각인서\",\"유물\"],[\"원한 각인서\",\"유물\"]],\"hovertemplate\":\"Name=%{customdata[0]}\\u003cbr\\u003eDate=%{x}\\u003cbr\\u003eRecentPrice=%{y}\\u003cbr\\u003eGrade=%{customdata[1]}\\u003cextra\\u003e\\u003c\\u002fextra\\u003e\",\"legendgroup\":\"원한 각인서\",\"line\":{\"color\":\"#EF553B\",\"dash\":\"solid\"},\"marker\":{\"symbol\":\"circle\",\"size\":8},\"mode\":\"markers+lines\",\"name\":\"원한 각인서\",\"orientation\":\"v\",\"showlegend\":true,\"x\":[\"2024-11-18T15:54:29.875035\",\"2024-11-18T16:54:38.599358\",\"2024-11-18T17:54:45.470097\",\"2024-11-18T18:54:52.075930\"],\"xaxis\":\"x\",\"y\":[225555.0,224900.0,224999.0,223000.0],\"yaxis\":\"y\",\"type\":\"scatter\"},{\"customdata\":[[\"예리한 둔기 각인서\",\"유물\"],[\"예리한 둔기 각인서\",\"유물\"],[\"예리한 둔기 각인서\",\"유물\"],[\"예리한 둔기 각인서\",\"유물\"]],\"hovertemplate\":\"Name=%{customdata[0]}\\u003cbr\\u003eDate=%{x}\\u003cbr\\u003eRecentPrice=%{y}\\u003cbr\\u003eGrade=%{customdata[1]}\\u003cextra\\u003e\\u003c\\u002fextra\\u003e\",\"legendgroup\":\"예리한 둔기 각인서\",\"line\":{\"color\":\"#00cc96\",\"dash\":\"solid\"},\"marker\":{\"symbol\":\"circle\",\"size\":8},\"mode\":\"markers+lines\",\"name\":\"예리한 둔기 각인서\",\"orientation\":\"v\",\"showlegend\":true,\"x\":[\"2024-11-18T15:54:30.546125\",\"2024-11-18T16:54:39.237619\",\"2024-11-18T17:54:46.095071\",\"2024-11-18T18:54:52.702694\"],\"xaxis\":\"x\",\"y\":[163800.0,164000.0,163450.0,163500.0],\"yaxis\":\"y\",\"type\":\"scatter\"},{\"customdata\":[[\"돌격대장 각인서\",\"유물\"],[\"돌격대장 각인서\",\"유물\"],[\"돌격대장 각인서\",\"유물\"],[\"돌격대장 각인서\",\"유물\"]],\"hovertemplate\":\"Name=%{customdata[0]}\\u003cbr\\u003eDate=%{x}\\u003cbr\\u003eRecentPrice=%{y}\\u003cbr\\u003eGrade=%{customdata[1]}\\u003cextra\\u003e\\u003c\\u002fextra\\u003e\",\"legendgroup\":\"돌격대장 각인서\",\"line\":{\"color\":\"#ab63fa\",\"dash\":\"solid\"},\"marker\":{\"symbol\":\"circle\",\"size\":8},\"mode\":\"markers+lines\",\"name\":\"돌격대장 각인서\",\"orientation\":\"v\",\"showlegend\":true,\"x\":[\"2024-11-18T15:54:31.195483\",\"2024-11-18T16:54:39.889316\",\"2024-11-18T17:54:46.741841\",\"2024-11-18T18:54:53.425685\"],\"xaxis\":\"x\",\"y\":[152000.0,155000.0,155000.0,155994.0],\"yaxis\":\"y\",\"type\":\"scatter\"},{\"customdata\":[[\"저주받은 인형 각인서\",\"유물\"],[\"저주받은 인형 각인서\",\"유물\"],[\"저주받은 인형 각인서\",\"유물\"],[\"저주받은 인형 각인서\",\"유물\"]],\"hovertemplate\":\"Name=%{customdata[0]}\\u003cbr\\u003eDate=%{x}\\u003cbr\\u003eRecentPrice=%{y}\\u003cbr\\u003eGrade=%{customdata[1]}\\u003cextra\\u003e\\u003c\\u002fextra\\u003e\",\"legendgroup\":\"저주받은 인형 각인서\",\"line\":{\"color\":\"#FFA15A\",\"dash\":\"solid\"},\"marker\":{\"symbol\":\"circle\",\"size\":8},\"mode\":\"markers+lines\",\"name\":\"저주받은 인형 각인서\",\"orientation\":\"v\",\"showlegend\":true,\"x\":[\"2024-11-18T15:54:31.865468\",\"2024-11-18T16:54:40.592375\",\"2024-11-18T17:54:47.383727\",\"2024-11-18T18:54:54.159396\"],\"xaxis\":\"x\",\"y\":[147599.0,147655.0,145000.0,146000.0],\"yaxis\":\"y\",\"type\":\"scatter\"},{\"customdata\":[[\"기습의 대가 각인서\",\"유물\"],[\"기습의 대가 각인서\",\"유물\"],[\"기습의 대가 각인서\",\"유물\"],[\"기습의 대가 각인서\",\"유물\"]],\"hovertemplate\":\"Name=%{customdata[0]}\\u003cbr\\u003eDate=%{x}\\u003cbr\\u003eRecentPrice=%{y}\\u003cbr\\u003eGrade=%{customdata[1]}\\u003cextra\\u003e\\u003c\\u002fextra\\u003e\",\"legendgroup\":\"기습의 대가 각인서\",\"line\":{\"color\":\"#19d3f3\",\"dash\":\"solid\"},\"marker\":{\"symbol\":\"circle\",\"size\":8},\"mode\":\"markers+lines\",\"name\":\"기습의 대가 각인서\",\"orientation\":\"v\",\"showlegend\":true,\"x\":[\"2024-11-18T15:54:32.503390\",\"2024-11-18T16:54:41.234361\",\"2024-11-18T17:54:48.015691\",\"2024-11-18T18:54:54.825703\"],\"xaxis\":\"x\",\"y\":[99300.0,98333.0,95000.0,99900.0],\"yaxis\":\"y\",\"type\":\"scatter\"},{\"customdata\":[[\"타격의 대가 각인서\",\"유물\"],[\"타격의 대가 각인서\",\"유물\"],[\"타격의 대가 각인서\",\"유물\"],[\"타격의 대가 각인서\",\"유물\"]],\"hovertemplate\":\"Name=%{customdata[0]}\\u003cbr\\u003eDate=%{x}\\u003cbr\\u003eRecentPrice=%{y}\\u003cbr\\u003eGrade=%{customdata[1]}\\u003cextra\\u003e\\u003c\\u002fextra\\u003e\",\"legendgroup\":\"타격의 대가 각인서\",\"line\":{\"color\":\"#FF6692\",\"dash\":\"solid\"},\"marker\":{\"symbol\":\"circle\",\"size\":8},\"mode\":\"markers+lines\",\"name\":\"타격의 대가 각인서\",\"orientation\":\"v\",\"showlegend\":true,\"x\":[\"2024-11-18T15:54:33.175288\",\"2024-11-18T16:54:41.885407\",\"2024-11-18T17:54:48.669918\",\"2024-11-18T18:54:55.454616\"],\"xaxis\":\"x\",\"y\":[87300.0,87488.0,87499.0,87500.0],\"yaxis\":\"y\",\"type\":\"scatter\"},{\"customdata\":[[\"질량 증가 각인서\",\"유물\"],[\"질량 증가 각인서\",\"유물\"],[\"질량 증가 각인서\",\"유물\"],[\"질량 증가 각인서\",\"유물\"]],\"hovertemplate\":\"Name=%{customdata[0]}\\u003cbr\\u003eDate=%{x}\\u003cbr\\u003eRecentPrice=%{y}\\u003cbr\\u003eGrade=%{customdata[1]}\\u003cextra\\u003e\\u003c\\u002fextra\\u003e\",\"legendgroup\":\"질량 증가 각인서\",\"line\":{\"color\":\"#B6E880\",\"dash\":\"solid\"},\"marker\":{\"symbol\":\"circle\",\"size\":8},\"mode\":\"markers+lines\",\"name\":\"질량 증가 각인서\",\"orientation\":\"v\",\"showlegend\":true,\"x\":[\"2024-11-18T15:54:33.842705\",\"2024-11-18T16:54:42.563078\",\"2024-11-18T17:54:49.321295\",\"2024-11-18T18:54:56.073998\"],\"xaxis\":\"x\",\"y\":[84500.0,82111.0,81450.0,81450.0],\"yaxis\":\"y\",\"type\":\"scatter\"},{\"customdata\":[[\"마나의 흐름 각인서\",\"유물\"],[\"마나의 흐름 각인서\",\"유물\"],[\"마나의 흐름 각인서\",\"유물\"],[\"마나의 흐름 각인서\",\"유물\"]],\"hovertemplate\":\"Name=%{customdata[0]}\\u003cbr\\u003eDate=%{x}\\u003cbr\\u003eRecentPrice=%{y}\\u003cbr\\u003eGrade=%{customdata[1]}\\u003cextra\\u003e\\u003c\\u002fextra\\u003e\",\"legendgroup\":\"마나의 흐름 각인서\",\"line\":{\"color\":\"#FF97FF\",\"dash\":\"solid\"},\"marker\":{\"symbol\":\"circle\",\"size\":8},\"mode\":\"markers+lines\",\"name\":\"마나의 흐름 각인서\",\"orientation\":\"v\",\"showlegend\":true,\"x\":[\"2024-11-18T15:54:34.500839\",\"2024-11-18T16:54:43.215317\",\"2024-11-18T17:54:49.963761\",\"2024-11-18T18:54:56.695094\"],\"xaxis\":\"x\",\"y\":[61500.0,60998.0,60000.0,61000.0],\"yaxis\":\"y\",\"type\":\"scatter\"},{\"customdata\":[[\"슈퍼 차지 각인서\",\"유물\"],[\"슈퍼 차지 각인서\",\"유물\"],[\"슈퍼 차지 각인서\",\"유물\"],[\"슈퍼 차지 각인서\",\"유물\"]],\"hovertemplate\":\"Name=%{customdata[0]}\\u003cbr\\u003eDate=%{x}\\u003cbr\\u003eRecentPrice=%{y}\\u003cbr\\u003eGrade=%{customdata[1]}\\u003cextra\\u003e\\u003c\\u002fextra\\u003e\",\"legendgroup\":\"슈퍼 차지 각인서\",\"line\":{\"color\":\"#FECB52\",\"dash\":\"solid\"},\"marker\":{\"symbol\":\"circle\",\"size\":8},\"mode\":\"markers+lines\",\"name\":\"슈퍼 차지 각인서\",\"orientation\":\"v\",\"showlegend\":true,\"x\":[\"2024-11-18T15:54:35.125917\",\"2024-11-18T16:54:43.869390\",\"2024-11-18T17:54:50.585077\",\"2024-11-18T18:54:57.326508\"],\"xaxis\":\"x\",\"y\":[48999.0,49498.0,49499.0,49499.0],\"yaxis\":\"y\",\"type\":\"scatter\"}],                        {\"template\":{\"data\":{\"histogram2dcontour\":[{\"type\":\"histogram2dcontour\",\"colorbar\":{\"outlinewidth\":0,\"ticks\":\"\"},\"colorscale\":[[0.0,\"#0d0887\"],[0.1111111111111111,\"#46039f\"],[0.2222222222222222,\"#7201a8\"],[0.3333333333333333,\"#9c179e\"],[0.4444444444444444,\"#bd3786\"],[0.5555555555555556,\"#d8576b\"],[0.6666666666666666,\"#ed7953\"],[0.7777777777777778,\"#fb9f3a\"],[0.8888888888888888,\"#fdca26\"],[1.0,\"#f0f921\"]]}],\"choropleth\":[{\"type\":\"choropleth\",\"colorbar\":{\"outlinewidth\":0,\"ticks\":\"\"}}],\"histogram2d\":[{\"type\":\"histogram2d\",\"colorbar\":{\"outlinewidth\":0,\"ticks\":\"\"},\"colorscale\":[[0.0,\"#0d0887\"],[0.1111111111111111,\"#46039f\"],[0.2222222222222222,\"#7201a8\"],[0.3333333333333333,\"#9c179e\"],[0.4444444444444444,\"#bd3786\"],[0.5555555555555556,\"#d8576b\"],[0.6666666666666666,\"#ed7953\"],[0.7777777777777778,\"#fb9f3a\"],[0.8888888888888888,\"#fdca26\"],[1.0,\"#f0f921\"]]}],\"heatmap\":[{\"type\":\"heatmap\",\"colorbar\":{\"outlinewidth\":0,\"ticks\":\"\"},\"colorscale\":[[0.0,\"#0d0887\"],[0.1111111111111111,\"#46039f\"],[0.2222222222222222,\"#7201a8\"],[0.3333333333333333,\"#9c179e\"],[0.4444444444444444,\"#bd3786\"],[0.5555555555555556,\"#d8576b\"],[0.6666666666666666,\"#ed7953\"],[0.7777777777777778,\"#fb9f3a\"],[0.8888888888888888,\"#fdca26\"],[1.0,\"#f0f921\"]]}],\"heatmapgl\":[{\"type\":\"heatmapgl\",\"colorbar\":{\"outlinewidth\":0,\"ticks\":\"\"},\"colorscale\":[[0.0,\"#0d0887\"],[0.1111111111111111,\"#46039f\"],[0.2222222222222222,\"#7201a8\"],[0.3333333333333333,\"#9c179e\"],[0.4444444444444444,\"#bd3786\"],[0.5555555555555556,\"#d8576b\"],[0.6666666666666666,\"#ed7953\"],[0.7777777777777778,\"#fb9f3a\"],[0.8888888888888888,\"#fdca26\"],[1.0,\"#f0f921\"]]}],\"contourcarpet\":[{\"type\":\"contourcarpet\",\"colorbar\":{\"outlinewidth\":0,\"ticks\":\"\"}}],\"contour\":[{\"type\":\"contour\",\"colorbar\":{\"outlinewidth\":0,\"ticks\":\"\"},\"colorscale\":[[0.0,\"#0d0887\"],[0.1111111111111111,\"#46039f\"],[0.2222222222222222,\"#7201a8\"],[0.3333333333333333,\"#9c179e\"],[0.4444444444444444,\"#bd3786\"],[0.5555555555555556,\"#d8576b\"],[0.6666666666666666,\"#ed7953\"],[0.7777777777777778,\"#fb9f3a\"],[0.8888888888888888,\"#fdca26\"],[1.0,\"#f0f921\"]]}],\"surface\":[{\"type\":\"surface\",\"colorbar\":{\"outlinewidth\":0,\"ticks\":\"\"},\"colorscale\":[[0.0,\"#0d0887\"],[0.1111111111111111,\"#46039f\"],[0.2222222222222222,\"#7201a8\"],[0.3333333333333333,\"#9c179e\"],[0.4444444444444444,\"#bd3786\"],[0.5555555555555556,\"#d8576b\"],[0.6666666666666666,\"#ed7953\"],[0.7777777777777778,\"#fb9f3a\"],[0.8888888888888888,\"#fdca26\"],[1.0,\"#f0f921\"]]}],\"mesh3d\":[{\"type\":\"mesh3d\",\"colorbar\":{\"outlinewidth\":0,\"ticks\":\"\"}}],\"scatter\":[{\"fillpattern\":{\"fillmode\":\"overlay\",\"size\":10,\"solidity\":0.2},\"type\":\"scatter\"}],\"parcoords\":[{\"type\":\"parcoords\",\"line\":{\"colorbar\":{\"outlinewidth\":0,\"ticks\":\"\"}}}],\"scatterpolargl\":[{\"type\":\"scatterpolargl\",\"marker\":{\"colorbar\":{\"outlinewidth\":0,\"ticks\":\"\"}}}],\"bar\":[{\"error_x\":{\"color\":\"#2a3f5f\"},\"error_y\":{\"color\":\"#2a3f5f\"},\"marker\":{\"line\":{\"color\":\"#E5ECF6\",\"width\":0.5},\"pattern\":{\"fillmode\":\"overlay\",\"size\":10,\"solidity\":0.2}},\"type\":\"bar\"}],\"scattergeo\":[{\"type\":\"scattergeo\",\"marker\":{\"colorbar\":{\"outlinewidth\":0,\"ticks\":\"\"}}}],\"scatterpolar\":[{\"type\":\"scatterpolar\",\"marker\":{\"colorbar\":{\"outlinewidth\":0,\"ticks\":\"\"}}}],\"histogram\":[{\"marker\":{\"pattern\":{\"fillmode\":\"overlay\",\"size\":10,\"solidity\":0.2}},\"type\":\"histogram\"}],\"scattergl\":[{\"type\":\"scattergl\",\"marker\":{\"colorbar\":{\"outlinewidth\":0,\"ticks\":\"\"}}}],\"scatter3d\":[{\"type\":\"scatter3d\",\"line\":{\"colorbar\":{\"outlinewidth\":0,\"ticks\":\"\"}},\"marker\":{\"colorbar\":{\"outlinewidth\":0,\"ticks\":\"\"}}}],\"scattermapbox\":[{\"type\":\"scattermapbox\",\"marker\":{\"colorbar\":{\"outlinewidth\":0,\"ticks\":\"\"}}}],\"scatterternary\":[{\"type\":\"scatterternary\",\"marker\":{\"colorbar\":{\"outlinewidth\":0,\"ticks\":\"\"}}}],\"scattercarpet\":[{\"type\":\"scattercarpet\",\"marker\":{\"colorbar\":{\"outlinewidth\":0,\"ticks\":\"\"}}}],\"carpet\":[{\"aaxis\":{\"endlinecolor\":\"#2a3f5f\",\"gridcolor\":\"white\",\"linecolor\":\"white\",\"minorgridcolor\":\"white\",\"startlinecolor\":\"#2a3f5f\"},\"baxis\":{\"endlinecolor\":\"#2a3f5f\",\"gridcolor\":\"white\",\"linecolor\":\"white\",\"minorgridcolor\":\"white\",\"startlinecolor\":\"#2a3f5f\"},\"type\":\"carpet\"}],\"table\":[{\"cells\":{\"fill\":{\"color\":\"#EBF0F8\"},\"line\":{\"color\":\"white\"}},\"header\":{\"fill\":{\"color\":\"#C8D4E3\"},\"line\":{\"color\":\"white\"}},\"type\":\"table\"}],\"barpolar\":[{\"marker\":{\"line\":{\"color\":\"#E5ECF6\",\"width\":0.5},\"pattern\":{\"fillmode\":\"overlay\",\"size\":10,\"solidity\":0.2}},\"type\":\"barpolar\"}],\"pie\":[{\"automargin\":true,\"type\":\"pie\"}]},\"layout\":{\"autotypenumbers\":\"strict\",\"colorway\":[\"#636efa\",\"#EF553B\",\"#00cc96\",\"#ab63fa\",\"#FFA15A\",\"#19d3f3\",\"#FF6692\",\"#B6E880\",\"#FF97FF\",\"#FECB52\"],\"font\":{\"color\":\"#2a3f5f\"},\"hovermode\":\"closest\",\"hoverlabel\":{\"align\":\"left\"},\"paper_bgcolor\":\"white\",\"plot_bgcolor\":\"#E5ECF6\",\"polar\":{\"bgcolor\":\"#E5ECF6\",\"angularaxis\":{\"gridcolor\":\"white\",\"linecolor\":\"white\",\"ticks\":\"\"},\"radialaxis\":{\"gridcolor\":\"white\",\"linecolor\":\"white\",\"ticks\":\"\"}},\"ternary\":{\"bgcolor\":\"#E5ECF6\",\"aaxis\":{\"gridcolor\":\"white\",\"linecolor\":\"white\",\"ticks\":\"\"},\"baxis\":{\"gridcolor\":\"white\",\"linecolor\":\"white\",\"ticks\":\"\"},\"caxis\":{\"gridcolor\":\"white\",\"linecolor\":\"white\",\"ticks\":\"\"}},\"coloraxis\":{\"colorbar\":{\"outlinewidth\":0,\"ticks\":\"\"}},\"colorscale\":{\"sequential\":[[0.0,\"#0d0887\"],[0.1111111111111111,\"#46039f\"],[0.2222222222222222,\"#7201a8\"],[0.3333333333333333,\"#9c179e\"],[0.4444444444444444,\"#bd3786\"],[0.5555555555555556,\"#d8576b\"],[0.6666666666666666,\"#ed7953\"],[0.7777777777777778,\"#fb9f3a\"],[0.8888888888888888,\"#fdca26\"],[1.0,\"#f0f921\"]],\"sequentialminus\":[[0.0,\"#0d0887\"],[0.1111111111111111,\"#46039f\"],[0.2222222222222222,\"#7201a8\"],[0.3333333333333333,\"#9c179e\"],[0.4444444444444444,\"#bd3786\"],[0.5555555555555556,\"#d8576b\"],[0.6666666666666666,\"#ed7953\"],[0.7777777777777778,\"#fb9f3a\"],[0.8888888888888888,\"#fdca26\"],[1.0,\"#f0f921\"]],\"diverging\":[[0,\"#8e0152\"],[0.1,\"#c51b7d\"],[0.2,\"#de77ae\"],[0.3,\"#f1b6da\"],[0.4,\"#fde0ef\"],[0.5,\"#f7f7f7\"],[0.6,\"#e6f5d0\"],[0.7,\"#b8e186\"],[0.8,\"#7fbc41\"],[0.9,\"#4d9221\"],[1,\"#276419\"]]},\"xaxis\":{\"gridcolor\":\"white\",\"linecolor\":\"white\",\"ticks\":\"\",\"title\":{\"standoff\":15},\"zerolinecolor\":\"white\",\"automargin\":true,\"zerolinewidth\":2},\"yaxis\":{\"gridcolor\":\"white\",\"linecolor\":\"white\",\"ticks\":\"\",\"title\":{\"standoff\":15},\"zerolinecolor\":\"white\",\"automargin\":true,\"zerolinewidth\":2},\"scene\":{\"xaxis\":{\"backgroundcolor\":\"#E5ECF6\",\"gridcolor\":\"white\",\"linecolor\":\"white\",\"showbackground\":true,\"ticks\":\"\",\"zerolinecolor\":\"white\",\"gridwidth\":2},\"yaxis\":{\"backgroundcolor\":\"#E5ECF6\",\"gridcolor\":\"white\",\"linecolor\":\"white\",\"showbackground\":true,\"ticks\":\"\",\"zerolinecolor\":\"white\",\"gridwidth\":2},\"zaxis\":{\"backgroundcolor\":\"#E5ECF6\",\"gridcolor\":\"white\",\"linecolor\":\"white\",\"showbackground\":true,\"ticks\":\"\",\"zerolinecolor\":\"white\",\"gridwidth\":2}},\"shapedefaults\":{\"line\":{\"color\":\"#2a3f5f\"}},\"annotationdefaults\":{\"arrowcolor\":\"#2a3f5f\",\"arrowhead\":0,\"arrowwidth\":1},\"geo\":{\"bgcolor\":\"white\",\"landcolor\":\"#E5ECF6\",\"subunitcolor\":\"white\",\"showland\":true,\"showlakes\":true,\"lakecolor\":\"white\"},\"title\":{\"x\":0.05},\"mapbox\":{\"style\":\"light\"}}},\"xaxis\":{\"anchor\":\"y\",\"domain\":[0.0,1.0],\"title\":{},\"showticklabels\":false,\"showgrid\":false},\"yaxis\":{\"anchor\":\"x\",\"domain\":[0.0,1.0],\"title\":{\"text\":\"최근 가격\"}},\"legend\":{\"title\":{\"text\":\"아이템 이름\"},\"tracegroupgap\":0},\"title\":{\"text\":\"각인서 가격 변동 그래프\",\"font\":{\"size\":20}},\"hovermode\":\"x unified\"},                        {\"responsive\": true}                    ).then(function(){\n",
              "                            \n",
              "var gd = document.getElementById('0e6fb84d-cbc4-4dc3-af45-8105eb17bdd0');\n",
              "var x = new MutationObserver(function (mutations, observer) {{\n",
              "        var display = window.getComputedStyle(gd).display;\n",
              "        if (!display || display === 'none') {{\n",
              "            console.log([gd, 'removed!']);\n",
              "            Plotly.purge(gd);\n",
              "            observer.disconnect();\n",
              "        }}\n",
              "}});\n",
              "\n",
              "// Listen for the removal of the full notebook cells\n",
              "var notebookContainer = gd.closest('#notebook-container');\n",
              "if (notebookContainer) {{\n",
              "    x.observe(notebookContainer, {childList: true});\n",
              "}}\n",
              "\n",
              "// Listen for the clearing of the current output cell\n",
              "var outputEl = gd.closest('.output');\n",
              "if (outputEl) {{\n",
              "    x.observe(outputEl, {childList: true});\n",
              "}}\n",
              "\n",
              "                        })                };                            </script>        </div>\n",
              "</body>\n",
              "</html>"
            ]
          },
          "metadata": {},
          "output_type": "display_data"
        },
        {
          "name": "stdout",
          "output_type": "stream",
          "text": [
            "[INFO] 1시간 대기 시작...\n"
          ]
        }
      ],
      "source": [
        "import requests\n",
        "import pandas as pd\n",
        "import sqlite3\n",
        "from datetime import datetime\n",
        "import matplotlib.pyplot as plt\n",
        "import time\n",
        "\n",
        "plt.rc('font', family='NanumBarunGothic')\n",
        "\n",
        "# API 호출을 위한 정보\n",
        "api_key = \"\"  # 본인의 API 키로 교체\n",
        "item_search_url = \"https://developer-lostark.game.onstove.com/markets/items\"\n",
        "headers = {\n",
        "    \"accept\": \"application/json\",\n",
        "    \"authorization\": f\"bearer {api_key}\",\n",
        "    \"Content-Type\": \"application/json\"\n",
        "}\n",
        "\n",
        "# DB 파일명\n",
        "db_filename = 'item_price_data.db'\n",
        "\n",
        "def fetch_and_save_data():\n",
        "    # DB에서 아이템 이름 조회\n",
        "    conn = sqlite3.connect(db_filename)\n",
        "    item_names_df = pd.read_sql_query(\"SELECT DISTINCT Name FROM item_names\", conn)\n",
        "    item_names = item_names_df[\"Name\"].tolist()\n",
        "\n",
        "    # 시세 조회 및 데이터 저장\n",
        "    for item_name in item_names:\n",
        "        data = {\n",
        "            \"Sort\": \"GRADE\",\n",
        "            \"CategoryCode\": \"40000\",\n",
        "            \"CharacterClass\": \"\",\n",
        "            \"ItemTier\": \"\",\n",
        "            \"ItemGrade\": \"유물\",\n",
        "            \"ItemName\": item_name,\n",
        "            \"PageNo\": 1,\n",
        "            \"SortCondition\": \"ASC\"\n",
        "        }\n",
        "\n",
        "        response = requests.post(item_search_url, headers=headers, json=data)\n",
        "\n",
        "        if response.status_code == 200:\n",
        "            market_data = response.json()\n",
        "            if 'Items' in market_data and market_data['Items']:\n",
        "                df = pd.DataFrame(market_data['Items'])\n",
        "                today = datetime.now()\n",
        "                df['Date'] = today\n",
        "                df.to_sql('item_prices', conn, if_exists='append', index=False)\n",
        "                print(f\"{item_name} 데이터 저장 완료!\")\n",
        "            else:\n",
        "                print(f\"'{item_name}'에 해당하는 아이템을 찾을 수 없습니다.\")\n",
        "        else:\n",
        "            print(f\"Error: {response.status_code} - {response.text} ({item_name})\")\n",
        "\n",
        "    print(\"모든 데이터가 데이터베이스에 저장되었습니다.\")\n",
        "\n",
        "    # DB에서 모든 아이템의 데이터 불러오기 및 그래프 그리기\n",
        "    query = \"SELECT * FROM item_prices\"\n",
        "    data_from_db = pd.read_sql_query(query, conn)\n",
        "\n",
        "    if not data_from_db.empty:\n",
        "        plt.figure(figsize=(14, 8))\n",
        "\n",
        "        for item_name in item_names:\n",
        "            item_data = data_from_db[data_from_db[\"Name\"] == item_name]\n",
        "            plt.plot(item_data['Date'], item_data['RecentPrice'], marker='o', label=item_name)\n",
        "\n",
        "        plt.title(\"각 아이템의 최근 가격 변동 추이\")\n",
        "        plt.ylabel(\"최근 가격 (Recent Price)\")\n",
        "        plt.legend(loc='upper left', bbox_to_anchor=(1, 1))  # 범례 위치를 그래프 밖으로 설정\n",
        "        plt.grid(True)\n",
        "        plt.tight_layout()\n",
        "        plt.xticks([])  # x축 범례 숨김\n",
        "        plt.show()\n",
        "    else:\n",
        "        print(\"데이터베이스에 데이터가 없습니다.\")\n",
        "\n",
        "    conn.close()\n",
        "\n",
        "# 무한 루프를 통해 10분 간격으로 데이터 가져오기 및 저장\n",
        "while True:\n",
        "    fetch_and_save_data()  # 데이터 가져오기 및 저장\n",
        "    time.sleep(600)  # 10분 대기 (600초)\n"
      ]
    }
  ],
  "metadata": {
    "colab": {
      "provenance": []
    },
    "kernelspec": {
      "display_name": "Python 3",
      "name": "python3"
    },
    "language_info": {
      "name": "python"
    }
  },
  "nbformat": 4,
  "nbformat_minor": 0
}